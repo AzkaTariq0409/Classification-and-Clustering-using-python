{
 "cells": [
  {
   "cell_type": "markdown",
   "id": "a757ec4c",
   "metadata": {},
   "source": [
    "# DATA VISUALIZATION"
   ]
  },
  {
   "cell_type": "code",
   "execution_count": 1,
   "id": "cb7f8ab0",
   "metadata": {},
   "outputs": [],
   "source": [
    "import pandas as pd\n",
    "import numpy as np\n",
    "import matplotlib.pyplot as plt\n",
    "from sklearn.model_selection import train_test_split\n",
    "from sklearn.naive_bayes import GaussianNB\n",
    "from sklearn.neighbors import KNeighborsClassifier\n",
    "import seaborn as sns\n",
    "from sklearn.metrics import confusion_matrix, accuracy_score, ConfusionMatrixDisplay\n",
    "from sklearn import metrics\n",
    "from sklearn.preprocessing import StandardScaler\n",
    "from sklearn.cluster import KMeans"
   ]
  },
  {
   "cell_type": "code",
   "execution_count": 2,
   "id": "559c10aa",
   "metadata": {},
   "outputs": [
    {
     "data": {
      "text/html": [
       "<div>\n",
       "<style scoped>\n",
       "    .dataframe tbody tr th:only-of-type {\n",
       "        vertical-align: middle;\n",
       "    }\n",
       "\n",
       "    .dataframe tbody tr th {\n",
       "        vertical-align: top;\n",
       "    }\n",
       "\n",
       "    .dataframe thead th {\n",
       "        text-align: right;\n",
       "    }\n",
       "</style>\n",
       "<table border=\"1\" class=\"dataframe\">\n",
       "  <thead>\n",
       "    <tr style=\"text-align: right;\">\n",
       "      <th></th>\n",
       "      <th>Area</th>\n",
       "      <th>MajorAxisLength</th>\n",
       "      <th>MinorAxisLength</th>\n",
       "      <th>Eccentricity</th>\n",
       "      <th>ConvexArea</th>\n",
       "      <th>Extent</th>\n",
       "      <th>Perimeter</th>\n",
       "      <th>Class</th>\n",
       "    </tr>\n",
       "  </thead>\n",
       "  <tbody>\n",
       "    <tr>\n",
       "      <th>0</th>\n",
       "      <td>87524</td>\n",
       "      <td>442.246011</td>\n",
       "      <td>253.291155</td>\n",
       "      <td>0.819738</td>\n",
       "      <td>90546</td>\n",
       "      <td>0.758651</td>\n",
       "      <td>1184.040</td>\n",
       "      <td>Kecimen</td>\n",
       "    </tr>\n",
       "    <tr>\n",
       "      <th>1</th>\n",
       "      <td>75166</td>\n",
       "      <td>406.690687</td>\n",
       "      <td>243.032436</td>\n",
       "      <td>0.801805</td>\n",
       "      <td>78789</td>\n",
       "      <td>0.684130</td>\n",
       "      <td>1121.786</td>\n",
       "      <td>Kecimen</td>\n",
       "    </tr>\n",
       "    <tr>\n",
       "      <th>2</th>\n",
       "      <td>90856</td>\n",
       "      <td>442.267048</td>\n",
       "      <td>266.328318</td>\n",
       "      <td>0.798354</td>\n",
       "      <td>93717</td>\n",
       "      <td>0.637613</td>\n",
       "      <td>1208.575</td>\n",
       "      <td>Kecimen</td>\n",
       "    </tr>\n",
       "    <tr>\n",
       "      <th>3</th>\n",
       "      <td>45928</td>\n",
       "      <td>286.540559</td>\n",
       "      <td>208.760042</td>\n",
       "      <td>0.684989</td>\n",
       "      <td>47336</td>\n",
       "      <td>0.699599</td>\n",
       "      <td>844.162</td>\n",
       "      <td>Kecimen</td>\n",
       "    </tr>\n",
       "    <tr>\n",
       "      <th>4</th>\n",
       "      <td>79408</td>\n",
       "      <td>352.190770</td>\n",
       "      <td>290.827533</td>\n",
       "      <td>0.564011</td>\n",
       "      <td>81463</td>\n",
       "      <td>0.792772</td>\n",
       "      <td>1073.251</td>\n",
       "      <td>Kecimen</td>\n",
       "    </tr>\n",
       "    <tr>\n",
       "      <th>...</th>\n",
       "      <td>...</td>\n",
       "      <td>...</td>\n",
       "      <td>...</td>\n",
       "      <td>...</td>\n",
       "      <td>...</td>\n",
       "      <td>...</td>\n",
       "      <td>...</td>\n",
       "      <td>...</td>\n",
       "    </tr>\n",
       "    <tr>\n",
       "      <th>895</th>\n",
       "      <td>83248</td>\n",
       "      <td>430.077308</td>\n",
       "      <td>247.838695</td>\n",
       "      <td>0.817263</td>\n",
       "      <td>85839</td>\n",
       "      <td>0.668793</td>\n",
       "      <td>1129.072</td>\n",
       "      <td>Besni</td>\n",
       "    </tr>\n",
       "    <tr>\n",
       "      <th>896</th>\n",
       "      <td>87350</td>\n",
       "      <td>440.735698</td>\n",
       "      <td>259.293149</td>\n",
       "      <td>0.808629</td>\n",
       "      <td>90899</td>\n",
       "      <td>0.636476</td>\n",
       "      <td>1214.252</td>\n",
       "      <td>Besni</td>\n",
       "    </tr>\n",
       "    <tr>\n",
       "      <th>897</th>\n",
       "      <td>99657</td>\n",
       "      <td>431.706981</td>\n",
       "      <td>298.837323</td>\n",
       "      <td>0.721684</td>\n",
       "      <td>106264</td>\n",
       "      <td>0.741099</td>\n",
       "      <td>1292.828</td>\n",
       "      <td>Besni</td>\n",
       "    </tr>\n",
       "    <tr>\n",
       "      <th>898</th>\n",
       "      <td>93523</td>\n",
       "      <td>476.344094</td>\n",
       "      <td>254.176054</td>\n",
       "      <td>0.845739</td>\n",
       "      <td>97653</td>\n",
       "      <td>0.658798</td>\n",
       "      <td>1258.548</td>\n",
       "      <td>Besni</td>\n",
       "    </tr>\n",
       "    <tr>\n",
       "      <th>899</th>\n",
       "      <td>85609</td>\n",
       "      <td>512.081774</td>\n",
       "      <td>215.271976</td>\n",
       "      <td>0.907345</td>\n",
       "      <td>89197</td>\n",
       "      <td>0.632020</td>\n",
       "      <td>1272.862</td>\n",
       "      <td>Besni</td>\n",
       "    </tr>\n",
       "  </tbody>\n",
       "</table>\n",
       "<p>900 rows × 8 columns</p>\n",
       "</div>"
      ],
      "text/plain": [
       "      Area  MajorAxisLength  MinorAxisLength  Eccentricity  ConvexArea  \\\n",
       "0    87524       442.246011       253.291155      0.819738       90546   \n",
       "1    75166       406.690687       243.032436      0.801805       78789   \n",
       "2    90856       442.267048       266.328318      0.798354       93717   \n",
       "3    45928       286.540559       208.760042      0.684989       47336   \n",
       "4    79408       352.190770       290.827533      0.564011       81463   \n",
       "..     ...              ...              ...           ...         ...   \n",
       "895  83248       430.077308       247.838695      0.817263       85839   \n",
       "896  87350       440.735698       259.293149      0.808629       90899   \n",
       "897  99657       431.706981       298.837323      0.721684      106264   \n",
       "898  93523       476.344094       254.176054      0.845739       97653   \n",
       "899  85609       512.081774       215.271976      0.907345       89197   \n",
       "\n",
       "       Extent  Perimeter    Class  \n",
       "0    0.758651   1184.040  Kecimen  \n",
       "1    0.684130   1121.786  Kecimen  \n",
       "2    0.637613   1208.575  Kecimen  \n",
       "3    0.699599    844.162  Kecimen  \n",
       "4    0.792772   1073.251  Kecimen  \n",
       "..        ...        ...      ...  \n",
       "895  0.668793   1129.072    Besni  \n",
       "896  0.636476   1214.252    Besni  \n",
       "897  0.741099   1292.828    Besni  \n",
       "898  0.658798   1258.548    Besni  \n",
       "899  0.632020   1272.862    Besni  \n",
       "\n",
       "[900 rows x 8 columns]"
      ]
     },
     "execution_count": 2,
     "metadata": {},
     "output_type": "execute_result"
    }
   ],
   "source": [
    "# Converting excel file to dataframe\n",
    "# Dataset 1\n",
    "dataframe1 = pd.read_excel(\"Raisin_Dataset.xlsx\")\n",
    "dataframe1"
   ]
  },
  {
   "cell_type": "code",
   "execution_count": 3,
   "id": "67da4de3",
   "metadata": {},
   "outputs": [
    {
     "data": {
      "text/html": [
       "<div>\n",
       "<style scoped>\n",
       "    .dataframe tbody tr th:only-of-type {\n",
       "        vertical-align: middle;\n",
       "    }\n",
       "\n",
       "    .dataframe tbody tr th {\n",
       "        vertical-align: top;\n",
       "    }\n",
       "\n",
       "    .dataframe thead th {\n",
       "        text-align: right;\n",
       "    }\n",
       "</style>\n",
       "<table border=\"1\" class=\"dataframe\">\n",
       "  <thead>\n",
       "    <tr style=\"text-align: right;\">\n",
       "      <th></th>\n",
       "      <th>Mean</th>\n",
       "      <th>Standard_Deviation</th>\n",
       "      <th>Excess_Kurtosis</th>\n",
       "      <th>Skewness</th>\n",
       "      <th>Mean_DM-SNR</th>\n",
       "      <th>Standard_Deviation_DM-SNR</th>\n",
       "      <th>Excess_Kurtosis_DM-SNR</th>\n",
       "      <th>Skewness_DM-SNR</th>\n",
       "      <th>Class</th>\n",
       "    </tr>\n",
       "  </thead>\n",
       "  <tbody>\n",
       "    <tr>\n",
       "      <th>0</th>\n",
       "      <td>102.507812</td>\n",
       "      <td>58.882430</td>\n",
       "      <td>0.465318</td>\n",
       "      <td>-0.515088</td>\n",
       "      <td>1.677258</td>\n",
       "      <td>14.860146</td>\n",
       "      <td>10.576487</td>\n",
       "      <td>127.393580</td>\n",
       "      <td>0</td>\n",
       "    </tr>\n",
       "    <tr>\n",
       "      <th>1</th>\n",
       "      <td>103.015625</td>\n",
       "      <td>39.341649</td>\n",
       "      <td>0.323328</td>\n",
       "      <td>1.051164</td>\n",
       "      <td>3.121237</td>\n",
       "      <td>21.744669</td>\n",
       "      <td>7.735822</td>\n",
       "      <td>63.171909</td>\n",
       "      <td>0</td>\n",
       "    </tr>\n",
       "    <tr>\n",
       "      <th>2</th>\n",
       "      <td>136.750000</td>\n",
       "      <td>57.178449</td>\n",
       "      <td>-0.068415</td>\n",
       "      <td>-0.636238</td>\n",
       "      <td>3.642977</td>\n",
       "      <td>20.959280</td>\n",
       "      <td>6.896499</td>\n",
       "      <td>53.593661</td>\n",
       "      <td>0</td>\n",
       "    </tr>\n",
       "    <tr>\n",
       "      <th>3</th>\n",
       "      <td>88.726562</td>\n",
       "      <td>40.672225</td>\n",
       "      <td>0.600866</td>\n",
       "      <td>1.123492</td>\n",
       "      <td>1.178930</td>\n",
       "      <td>11.468720</td>\n",
       "      <td>14.269573</td>\n",
       "      <td>252.567306</td>\n",
       "      <td>0</td>\n",
       "    </tr>\n",
       "    <tr>\n",
       "      <th>4</th>\n",
       "      <td>93.570312</td>\n",
       "      <td>46.698114</td>\n",
       "      <td>0.531905</td>\n",
       "      <td>0.416721</td>\n",
       "      <td>1.636288</td>\n",
       "      <td>14.545074</td>\n",
       "      <td>10.621748</td>\n",
       "      <td>131.394004</td>\n",
       "      <td>0</td>\n",
       "    </tr>\n",
       "    <tr>\n",
       "      <th>...</th>\n",
       "      <td>...</td>\n",
       "      <td>...</td>\n",
       "      <td>...</td>\n",
       "      <td>...</td>\n",
       "      <td>...</td>\n",
       "      <td>...</td>\n",
       "      <td>...</td>\n",
       "      <td>...</td>\n",
       "      <td>...</td>\n",
       "    </tr>\n",
       "    <tr>\n",
       "      <th>17892</th>\n",
       "      <td>136.429688</td>\n",
       "      <td>59.847421</td>\n",
       "      <td>-0.187846</td>\n",
       "      <td>-0.738123</td>\n",
       "      <td>1.296823</td>\n",
       "      <td>12.166062</td>\n",
       "      <td>15.450260</td>\n",
       "      <td>285.931022</td>\n",
       "      <td>0</td>\n",
       "    </tr>\n",
       "    <tr>\n",
       "      <th>17893</th>\n",
       "      <td>122.554688</td>\n",
       "      <td>49.485605</td>\n",
       "      <td>0.127978</td>\n",
       "      <td>0.323061</td>\n",
       "      <td>16.409699</td>\n",
       "      <td>44.626893</td>\n",
       "      <td>2.945244</td>\n",
       "      <td>8.297092</td>\n",
       "      <td>0</td>\n",
       "    </tr>\n",
       "    <tr>\n",
       "      <th>17894</th>\n",
       "      <td>119.335938</td>\n",
       "      <td>59.935939</td>\n",
       "      <td>0.159363</td>\n",
       "      <td>-0.743025</td>\n",
       "      <td>21.430602</td>\n",
       "      <td>58.872000</td>\n",
       "      <td>2.499517</td>\n",
       "      <td>4.595173</td>\n",
       "      <td>0</td>\n",
       "    </tr>\n",
       "    <tr>\n",
       "      <th>17895</th>\n",
       "      <td>114.507812</td>\n",
       "      <td>53.902400</td>\n",
       "      <td>0.201161</td>\n",
       "      <td>-0.024789</td>\n",
       "      <td>1.946488</td>\n",
       "      <td>13.381731</td>\n",
       "      <td>10.007967</td>\n",
       "      <td>134.238910</td>\n",
       "      <td>0</td>\n",
       "    </tr>\n",
       "    <tr>\n",
       "      <th>17896</th>\n",
       "      <td>57.062500</td>\n",
       "      <td>85.797340</td>\n",
       "      <td>1.406391</td>\n",
       "      <td>0.089520</td>\n",
       "      <td>188.306020</td>\n",
       "      <td>64.712562</td>\n",
       "      <td>-1.597527</td>\n",
       "      <td>1.429475</td>\n",
       "      <td>0</td>\n",
       "    </tr>\n",
       "  </tbody>\n",
       "</table>\n",
       "<p>17897 rows × 9 columns</p>\n",
       "</div>"
      ],
      "text/plain": [
       "             Mean  Standard_Deviation  Excess_Kurtosis  Skewness  Mean_DM-SNR  \\\n",
       "0      102.507812           58.882430         0.465318 -0.515088     1.677258   \n",
       "1      103.015625           39.341649         0.323328  1.051164     3.121237   \n",
       "2      136.750000           57.178449        -0.068415 -0.636238     3.642977   \n",
       "3       88.726562           40.672225         0.600866  1.123492     1.178930   \n",
       "4       93.570312           46.698114         0.531905  0.416721     1.636288   \n",
       "...           ...                 ...              ...       ...          ...   \n",
       "17892  136.429688           59.847421        -0.187846 -0.738123     1.296823   \n",
       "17893  122.554688           49.485605         0.127978  0.323061    16.409699   \n",
       "17894  119.335938           59.935939         0.159363 -0.743025    21.430602   \n",
       "17895  114.507812           53.902400         0.201161 -0.024789     1.946488   \n",
       "17896   57.062500           85.797340         1.406391  0.089520   188.306020   \n",
       "\n",
       "       Standard_Deviation_DM-SNR  Excess_Kurtosis_DM-SNR  Skewness_DM-SNR  \\\n",
       "0                      14.860146               10.576487       127.393580   \n",
       "1                      21.744669                7.735822        63.171909   \n",
       "2                      20.959280                6.896499        53.593661   \n",
       "3                      11.468720               14.269573       252.567306   \n",
       "4                      14.545074               10.621748       131.394004   \n",
       "...                          ...                     ...              ...   \n",
       "17892                  12.166062               15.450260       285.931022   \n",
       "17893                  44.626893                2.945244         8.297092   \n",
       "17894                  58.872000                2.499517         4.595173   \n",
       "17895                  13.381731               10.007967       134.238910   \n",
       "17896                  64.712562               -1.597527         1.429475   \n",
       "\n",
       "       Class  \n",
       "0          0  \n",
       "1          0  \n",
       "2          0  \n",
       "3          0  \n",
       "4          0  \n",
       "...      ...  \n",
       "17892      0  \n",
       "17893      0  \n",
       "17894      0  \n",
       "17895      0  \n",
       "17896      0  \n",
       "\n",
       "[17897 rows x 9 columns]"
      ]
     },
     "execution_count": 3,
     "metadata": {},
     "output_type": "execute_result"
    }
   ],
   "source": [
    "# Converting CSV file to dataframe\n",
    "# Dataset 2\n",
    "dataframe2 = pd.read_csv(\"HTRU_2.csv\")\n",
    "# Adding column names\n",
    "dataframe2.columns=['Mean', 'Standard_Deviation', 'Excess_Kurtosis', 'Skewness','Mean_DM-SNR','Standard_Deviation_DM-SNR','Excess_Kurtosis_DM-SNR','Skewness_DM-SNR','Class']\n",
    "dataframe2"
   ]
  },
  {
   "cell_type": "code",
   "execution_count": 4,
   "id": "ae14bcfd",
   "metadata": {},
   "outputs": [
    {
     "data": {
      "text/html": [
       "<div>\n",
       "<style scoped>\n",
       "    .dataframe tbody tr th:only-of-type {\n",
       "        vertical-align: middle;\n",
       "    }\n",
       "\n",
       "    .dataframe tbody tr th {\n",
       "        vertical-align: top;\n",
       "    }\n",
       "\n",
       "    .dataframe thead th {\n",
       "        text-align: right;\n",
       "    }\n",
       "</style>\n",
       "<table border=\"1\" class=\"dataframe\">\n",
       "  <thead>\n",
       "    <tr style=\"text-align: right;\">\n",
       "      <th></th>\n",
       "      <th>SystemCodeNumber</th>\n",
       "      <th>Capacity</th>\n",
       "      <th>Occupancy</th>\n",
       "      <th>LastUpdated</th>\n",
       "    </tr>\n",
       "  </thead>\n",
       "  <tbody>\n",
       "    <tr>\n",
       "      <th>0</th>\n",
       "      <td>BHMBCCMKT01</td>\n",
       "      <td>577</td>\n",
       "      <td>61</td>\n",
       "      <td>2016-10-04 07:59:42</td>\n",
       "    </tr>\n",
       "    <tr>\n",
       "      <th>1</th>\n",
       "      <td>BHMBCCMKT01</td>\n",
       "      <td>577</td>\n",
       "      <td>64</td>\n",
       "      <td>2016-10-04 08:25:42</td>\n",
       "    </tr>\n",
       "    <tr>\n",
       "      <th>2</th>\n",
       "      <td>BHMBCCMKT01</td>\n",
       "      <td>577</td>\n",
       "      <td>80</td>\n",
       "      <td>2016-10-04 08:59:42</td>\n",
       "    </tr>\n",
       "    <tr>\n",
       "      <th>3</th>\n",
       "      <td>BHMBCCMKT01</td>\n",
       "      <td>577</td>\n",
       "      <td>107</td>\n",
       "      <td>2016-10-04 09:32:46</td>\n",
       "    </tr>\n",
       "    <tr>\n",
       "      <th>4</th>\n",
       "      <td>BHMBCCMKT01</td>\n",
       "      <td>577</td>\n",
       "      <td>150</td>\n",
       "      <td>2016-10-04 09:59:48</td>\n",
       "    </tr>\n",
       "    <tr>\n",
       "      <th>...</th>\n",
       "      <td>...</td>\n",
       "      <td>...</td>\n",
       "      <td>...</td>\n",
       "      <td>...</td>\n",
       "    </tr>\n",
       "    <tr>\n",
       "      <th>35712</th>\n",
       "      <td>Shopping</td>\n",
       "      <td>1920</td>\n",
       "      <td>1517</td>\n",
       "      <td>2016-12-19 14:30:33</td>\n",
       "    </tr>\n",
       "    <tr>\n",
       "      <th>35713</th>\n",
       "      <td>Shopping</td>\n",
       "      <td>1920</td>\n",
       "      <td>1487</td>\n",
       "      <td>2016-12-19 15:03:34</td>\n",
       "    </tr>\n",
       "    <tr>\n",
       "      <th>35714</th>\n",
       "      <td>Shopping</td>\n",
       "      <td>1920</td>\n",
       "      <td>1432</td>\n",
       "      <td>2016-12-19 15:29:33</td>\n",
       "    </tr>\n",
       "    <tr>\n",
       "      <th>35715</th>\n",
       "      <td>Shopping</td>\n",
       "      <td>1920</td>\n",
       "      <td>1321</td>\n",
       "      <td>2016-12-19 16:03:35</td>\n",
       "    </tr>\n",
       "    <tr>\n",
       "      <th>35716</th>\n",
       "      <td>Shopping</td>\n",
       "      <td>1920</td>\n",
       "      <td>1180</td>\n",
       "      <td>2016-12-19 16:30:35</td>\n",
       "    </tr>\n",
       "  </tbody>\n",
       "</table>\n",
       "<p>35717 rows × 4 columns</p>\n",
       "</div>"
      ],
      "text/plain": [
       "      SystemCodeNumber  Capacity  Occupancy          LastUpdated\n",
       "0          BHMBCCMKT01       577         61  2016-10-04 07:59:42\n",
       "1          BHMBCCMKT01       577         64  2016-10-04 08:25:42\n",
       "2          BHMBCCMKT01       577         80  2016-10-04 08:59:42\n",
       "3          BHMBCCMKT01       577        107  2016-10-04 09:32:46\n",
       "4          BHMBCCMKT01       577        150  2016-10-04 09:59:48\n",
       "...                ...       ...        ...                  ...\n",
       "35712         Shopping      1920       1517  2016-12-19 14:30:33\n",
       "35713         Shopping      1920       1487  2016-12-19 15:03:34\n",
       "35714         Shopping      1920       1432  2016-12-19 15:29:33\n",
       "35715         Shopping      1920       1321  2016-12-19 16:03:35\n",
       "35716         Shopping      1920       1180  2016-12-19 16:30:35\n",
       "\n",
       "[35717 rows x 4 columns]"
      ]
     },
     "execution_count": 4,
     "metadata": {},
     "output_type": "execute_result"
    }
   ],
   "source": [
    "# Converting excel file to dataframe\n",
    "# Dataset 3\n",
    "dataframe3 = pd.read_csv(\"dataset.csv\")\n",
    "dataframe3\n"
   ]
  },
  {
   "cell_type": "markdown",
   "id": "fe8bc5c3",
   "metadata": {},
   "source": [
    "## GRAPHS PLOTTING\n"
   ]
  },
  {
   "cell_type": "code",
   "execution_count": 5,
   "id": "77b43162",
   "metadata": {},
   "outputs": [],
   "source": [
    "# ## SCATTERPLOT FOR DATASET 1\n",
    "# sns.scatterplot(x='MajorAxisLength', y='MinorAxisLength',hue='Class',style='Class',size='Extent', data = dataframe1)\n",
    "# plt.show()\n",
    "\n",
    "## LINEPLOT FOR DATASET 2\n",
    "# sns.lineplot(x=\"Mean\", y=\"Mean_DM-SNR\",hue='Class',style='Class',data=dataframe2)\n",
    "# plt.show()\n",
    "\n",
    "\n",
    "## REGRESSIONPLOT FOR DATASET 3 \n",
    "# sns.regplot(x=\"Capacity\", y=\"Occupancy\", data=dataframe3)\n",
    "# plt.show()"
   ]
  },
  {
   "cell_type": "markdown",
   "id": "d7c274b4",
   "metadata": {},
   "source": [
    "### KNN ON THE BASIS OF 2 AND MORE FEATURES (DATASET 1)"
   ]
  },
  {
   "cell_type": "code",
   "execution_count": 6,
   "id": "3959d463",
   "metadata": {},
   "outputs": [],
   "source": [
    "f1 = np.array(dataframe1['Area'])\n",
    "f2 = np.array(dataframe1['ConvexArea'])\n",
    "f3 = np.array(dataframe1['Extent'])\n",
    "f4 = np.array(dataframe1['MajorAxisLength'])\n",
    "f5 = np.array(dataframe1['MinorAxisLength'])\n",
    "f6 = np.array(dataframe1['Perimeter'])\n",
    "label = np.array(dataframe1['Class'])"
   ]
  },
  {
   "cell_type": "code",
   "execution_count": 7,
   "id": "a9f8f7a3",
   "metadata": {},
   "outputs": [
    {
     "name": "stdout",
     "output_type": "stream",
     "text": [
      "PREDICTED VALUES USING KNN ARE:\n",
      "['Besni' 'Kecimen' 'Besni' 'Kecimen' 'Besni' 'Besni' 'Besni' 'Kecimen'\n",
      " 'Kecimen' 'Besni' 'Besni' 'Kecimen' 'Kecimen' 'Kecimen' 'Besni' 'Kecimen'\n",
      " 'Besni' 'Besni' 'Besni' 'Kecimen' 'Kecimen' 'Besni' 'Besni' 'Besni'\n",
      " 'Kecimen' 'Kecimen' 'Kecimen' 'Besni' 'Besni' 'Besni' 'Kecimen' 'Besni'\n",
      " 'Kecimen' 'Kecimen' 'Besni' 'Besni' 'Kecimen' 'Kecimen' 'Besni' 'Besni'\n",
      " 'Kecimen' 'Kecimen' 'Kecimen' 'Kecimen' 'Besni' 'Besni' 'Besni' 'Kecimen'\n",
      " 'Kecimen' 'Besni' 'Kecimen' 'Kecimen' 'Kecimen' 'Kecimen' 'Besni'\n",
      " 'Kecimen' 'Kecimen' 'Besni' 'Kecimen' 'Kecimen' 'Besni' 'Kecimen'\n",
      " 'Kecimen' 'Besni' 'Kecimen' 'Besni' 'Besni' 'Besni' 'Kecimen' 'Besni'\n",
      " 'Besni' 'Besni' 'Kecimen' 'Besni' 'Kecimen' 'Besni' 'Besni' 'Kecimen'\n",
      " 'Kecimen' 'Kecimen' 'Kecimen' 'Besni' 'Besni' 'Kecimen' 'Besni' 'Besni'\n",
      " 'Besni' 'Besni' 'Kecimen' 'Kecimen' 'Kecimen' 'Kecimen' 'Kecimen' 'Besni'\n",
      " 'Besni' 'Besni' 'Kecimen' 'Besni' 'Besni' 'Kecimen' 'Besni' 'Kecimen'\n",
      " 'Kecimen' 'Besni' 'Besni' 'Besni' 'Besni' 'Kecimen' 'Besni' 'Besni'\n",
      " 'Kecimen' 'Kecimen' 'Besni' 'Kecimen' 'Besni' 'Besni' 'Besni' 'Besni'\n",
      " 'Kecimen' 'Kecimen' 'Besni' 'Besni' 'Besni' 'Kecimen' 'Kecimen' 'Kecimen'\n",
      " 'Kecimen' 'Kecimen' 'Kecimen' 'Besni' 'Kecimen' 'Kecimen' 'Kecimen'\n",
      " 'Besni' 'Kecimen' 'Besni' 'Besni' 'Kecimen' 'Kecimen' 'Besni' 'Besni'\n",
      " 'Kecimen' 'Kecimen' 'Besni' 'Kecimen' 'Kecimen' 'Kecimen' 'Besni'\n",
      " 'Kecimen' 'Besni' 'Kecimen' 'Kecimen' 'Kecimen' 'Besni' 'Kecimen'\n",
      " 'Kecimen' 'Kecimen' 'Besni' 'Kecimen' 'Kecimen' 'Kecimen' 'Kecimen'\n",
      " 'Kecimen' 'Besni' 'Besni' 'Besni' 'Besni' 'Kecimen' 'Besni' 'Kecimen'\n",
      " 'Kecimen' 'Kecimen' 'Besni' 'Besni' 'Besni' 'Kecimen' 'Kecimen' 'Besni'\n",
      " 'Kecimen' 'Besni']\n",
      "[[76 21]\n",
      " [10 73]]\n",
      "0.8277777777777777\n",
      "              precision    recall  f1-score   support\n",
      "\n",
      "       Besni       0.88      0.78      0.83        97\n",
      "     Kecimen       0.78      0.88      0.82        83\n",
      "\n",
      "    accuracy                           0.83       180\n",
      "   macro avg       0.83      0.83      0.83       180\n",
      "weighted avg       0.83      0.83      0.83       180\n",
      "\n"
     ]
    },
    {
     "data": {
      "image/png": "[encoded data removed]",
      "text/plain": [
       "<Figure size 432x288 with 1 Axes>"
      ]
     },
     "metadata": {
      "needs_background": "light"
     },
     "output_type": "display_data"
    },
    {
     "name": "stdout",
     "output_type": "stream",
     "text": [
      "PREDICTED VALUES USING KNN ARE:\n",
      "['Besni' 'Kecimen' 'Besni' 'Kecimen' 'Besni' 'Besni' 'Besni' 'Kecimen'\n",
      " 'Kecimen' 'Besni' 'Besni' 'Kecimen' 'Kecimen' 'Kecimen' 'Besni' 'Kecimen'\n",
      " 'Besni' 'Besni' 'Besni' 'Kecimen' 'Kecimen' 'Besni' 'Besni' 'Besni'\n",
      " 'Kecimen' 'Kecimen' 'Kecimen' 'Besni' 'Besni' 'Besni' 'Kecimen' 'Besni'\n",
      " 'Kecimen' 'Kecimen' 'Besni' 'Besni' 'Kecimen' 'Kecimen' 'Besni' 'Besni'\n",
      " 'Kecimen' 'Kecimen' 'Kecimen' 'Kecimen' 'Besni' 'Besni' 'Besni' 'Kecimen'\n",
      " 'Kecimen' 'Besni' 'Kecimen' 'Kecimen' 'Kecimen' 'Kecimen' 'Besni'\n",
      " 'Kecimen' 'Kecimen' 'Besni' 'Kecimen' 'Kecimen' 'Besni' 'Kecimen'\n",
      " 'Kecimen' 'Besni' 'Kecimen' 'Besni' 'Besni' 'Besni' 'Kecimen' 'Besni'\n",
      " 'Besni' 'Besni' 'Kecimen' 'Besni' 'Kecimen' 'Besni' 'Besni' 'Kecimen'\n",
      " 'Kecimen' 'Kecimen' 'Kecimen' 'Besni' 'Besni' 'Kecimen' 'Besni' 'Besni'\n",
      " 'Besni' 'Besni' 'Kecimen' 'Kecimen' 'Kecimen' 'Kecimen' 'Kecimen' 'Besni'\n",
      " 'Besni' 'Besni' 'Kecimen' 'Besni' 'Besni' 'Kecimen' 'Besni' 'Kecimen'\n",
      " 'Kecimen' 'Besni' 'Besni' 'Besni' 'Besni' 'Kecimen' 'Besni' 'Besni'\n",
      " 'Kecimen' 'Kecimen' 'Besni' 'Kecimen' 'Besni' 'Besni' 'Besni' 'Besni'\n",
      " 'Kecimen' 'Kecimen' 'Besni' 'Besni' 'Besni' 'Kecimen' 'Kecimen' 'Kecimen'\n",
      " 'Kecimen' 'Kecimen' 'Kecimen' 'Besni' 'Kecimen' 'Kecimen' 'Kecimen'\n",
      " 'Besni' 'Kecimen' 'Besni' 'Besni' 'Kecimen' 'Kecimen' 'Besni' 'Besni'\n",
      " 'Kecimen' 'Kecimen' 'Besni' 'Kecimen' 'Kecimen' 'Kecimen' 'Besni'\n",
      " 'Kecimen' 'Besni' 'Kecimen' 'Kecimen' 'Kecimen' 'Besni' 'Kecimen'\n",
      " 'Kecimen' 'Kecimen' 'Besni' 'Kecimen' 'Kecimen' 'Kecimen' 'Kecimen'\n",
      " 'Kecimen' 'Besni' 'Besni' 'Besni' 'Besni' 'Kecimen' 'Besni' 'Kecimen'\n",
      " 'Kecimen' 'Kecimen' 'Besni' 'Besni' 'Besni' 'Kecimen' 'Kecimen' 'Besni'\n",
      " 'Kecimen' 'Besni']\n",
      "[[76 21]\n",
      " [10 73]]\n",
      "0.8277777777777777\n",
      "              precision    recall  f1-score   support\n",
      "\n",
      "       Besni       0.88      0.78      0.83        97\n",
      "     Kecimen       0.78      0.88      0.82        83\n",
      "\n",
      "    accuracy                           0.83       180\n",
      "   macro avg       0.83      0.83      0.83       180\n",
      "weighted avg       0.83      0.83      0.83       180\n",
      "\n"
     ]
    },
    {
     "data": {
      "image/png": "[encoded data removed]",
      "text/plain": [
       "<Figure size 432x288 with 1 Axes>"
      ]
     },
     "metadata": {
      "needs_background": "light"
     },
     "output_type": "display_data"
    },
    {
     "name": "stdout",
     "output_type": "stream",
     "text": [
      "PREDICTED VALUES USING KNN ARE:\n",
      "['Besni' 'Kecimen' 'Besni' 'Kecimen' 'Besni' 'Besni' 'Besni' 'Kecimen'\n",
      " 'Kecimen' 'Besni' 'Besni' 'Kecimen' 'Kecimen' 'Kecimen' 'Besni' 'Kecimen'\n",
      " 'Besni' 'Besni' 'Besni' 'Kecimen' 'Kecimen' 'Besni' 'Besni' 'Besni'\n",
      " 'Kecimen' 'Kecimen' 'Kecimen' 'Besni' 'Besni' 'Besni' 'Kecimen' 'Besni'\n",
      " 'Kecimen' 'Kecimen' 'Besni' 'Besni' 'Kecimen' 'Kecimen' 'Besni' 'Besni'\n",
      " 'Kecimen' 'Kecimen' 'Kecimen' 'Kecimen' 'Besni' 'Besni' 'Besni' 'Kecimen'\n",
      " 'Kecimen' 'Besni' 'Kecimen' 'Kecimen' 'Kecimen' 'Kecimen' 'Besni'\n",
      " 'Kecimen' 'Kecimen' 'Besni' 'Kecimen' 'Kecimen' 'Besni' 'Kecimen'\n",
      " 'Kecimen' 'Besni' 'Kecimen' 'Besni' 'Besni' 'Besni' 'Kecimen' 'Besni'\n",
      " 'Besni' 'Besni' 'Kecimen' 'Besni' 'Kecimen' 'Besni' 'Besni' 'Kecimen'\n",
      " 'Kecimen' 'Kecimen' 'Kecimen' 'Besni' 'Besni' 'Kecimen' 'Besni' 'Besni'\n",
      " 'Besni' 'Besni' 'Kecimen' 'Kecimen' 'Kecimen' 'Kecimen' 'Kecimen' 'Besni'\n",
      " 'Besni' 'Besni' 'Kecimen' 'Besni' 'Besni' 'Kecimen' 'Besni' 'Kecimen'\n",
      " 'Kecimen' 'Besni' 'Besni' 'Besni' 'Besni' 'Kecimen' 'Besni' 'Besni'\n",
      " 'Kecimen' 'Kecimen' 'Besni' 'Kecimen' 'Besni' 'Besni' 'Besni' 'Besni'\n",
      " 'Kecimen' 'Kecimen' 'Besni' 'Besni' 'Besni' 'Kecimen' 'Kecimen' 'Kecimen'\n",
      " 'Kecimen' 'Kecimen' 'Kecimen' 'Besni' 'Kecimen' 'Kecimen' 'Kecimen'\n",
      " 'Besni' 'Kecimen' 'Besni' 'Besni' 'Kecimen' 'Kecimen' 'Besni' 'Besni'\n",
      " 'Kecimen' 'Kecimen' 'Besni' 'Kecimen' 'Kecimen' 'Kecimen' 'Besni'\n",
      " 'Kecimen' 'Besni' 'Kecimen' 'Kecimen' 'Kecimen' 'Besni' 'Kecimen'\n",
      " 'Kecimen' 'Kecimen' 'Besni' 'Kecimen' 'Kecimen' 'Kecimen' 'Kecimen'\n",
      " 'Kecimen' 'Besni' 'Besni' 'Besni' 'Besni' 'Kecimen' 'Besni' 'Kecimen'\n",
      " 'Kecimen' 'Kecimen' 'Besni' 'Besni' 'Besni' 'Kecimen' 'Kecimen' 'Besni'\n",
      " 'Kecimen' 'Besni']\n",
      "[[76 21]\n",
      " [10 73]]\n",
      "0.8277777777777777\n",
      "              precision    recall  f1-score   support\n",
      "\n",
      "       Besni       0.88      0.78      0.83        97\n",
      "     Kecimen       0.78      0.88      0.82        83\n",
      "\n",
      "    accuracy                           0.83       180\n",
      "   macro avg       0.83      0.83      0.83       180\n",
      "weighted avg       0.83      0.83      0.83       180\n",
      "\n"
     ]
    },
    {
     "data": {
      "image/png": "[encoded data removed]",
      "text/plain": [
       "<Figure size 432x288 with 1 Axes>"
      ]
     },
     "metadata": {
      "needs_background": "light"
     },
     "output_type": "display_data"
    },
    {
     "name": "stdout",
     "output_type": "stream",
     "text": [
      "PREDICTED VALUES USING KNN ARE:\n",
      "['Besni' 'Kecimen' 'Besni' 'Kecimen' 'Besni' 'Besni' 'Besni' 'Kecimen'\n",
      " 'Kecimen' 'Besni' 'Besni' 'Kecimen' 'Kecimen' 'Kecimen' 'Besni' 'Kecimen'\n",
      " 'Besni' 'Besni' 'Besni' 'Kecimen' 'Kecimen' 'Besni' 'Besni' 'Besni'\n",
      " 'Kecimen' 'Kecimen' 'Kecimen' 'Besni' 'Besni' 'Besni' 'Kecimen' 'Besni'\n",
      " 'Kecimen' 'Kecimen' 'Besni' 'Besni' 'Kecimen' 'Kecimen' 'Besni' 'Besni'\n",
      " 'Kecimen' 'Kecimen' 'Kecimen' 'Kecimen' 'Besni' 'Besni' 'Besni' 'Kecimen'\n",
      " 'Kecimen' 'Besni' 'Kecimen' 'Kecimen' 'Kecimen' 'Kecimen' 'Besni'\n",
      " 'Kecimen' 'Kecimen' 'Besni' 'Kecimen' 'Kecimen' 'Besni' 'Kecimen'\n",
      " 'Kecimen' 'Besni' 'Kecimen' 'Besni' 'Besni' 'Besni' 'Kecimen' 'Besni'\n",
      " 'Besni' 'Besni' 'Kecimen' 'Besni' 'Kecimen' 'Besni' 'Besni' 'Kecimen'\n",
      " 'Kecimen' 'Kecimen' 'Kecimen' 'Besni' 'Besni' 'Kecimen' 'Besni' 'Besni'\n",
      " 'Besni' 'Besni' 'Kecimen' 'Kecimen' 'Kecimen' 'Kecimen' 'Kecimen' 'Besni'\n",
      " 'Besni' 'Besni' 'Kecimen' 'Besni' 'Besni' 'Kecimen' 'Besni' 'Kecimen'\n",
      " 'Kecimen' 'Besni' 'Besni' 'Besni' 'Besni' 'Kecimen' 'Besni' 'Besni'\n",
      " 'Kecimen' 'Kecimen' 'Besni' 'Kecimen' 'Besni' 'Besni' 'Besni' 'Besni'\n",
      " 'Kecimen' 'Kecimen' 'Besni' 'Besni' 'Besni' 'Kecimen' 'Kecimen' 'Kecimen'\n",
      " 'Kecimen' 'Kecimen' 'Kecimen' 'Besni' 'Kecimen' 'Kecimen' 'Kecimen'\n",
      " 'Besni' 'Kecimen' 'Besni' 'Besni' 'Kecimen' 'Kecimen' 'Besni' 'Besni'\n",
      " 'Kecimen' 'Kecimen' 'Besni' 'Kecimen' 'Kecimen' 'Kecimen' 'Besni'\n",
      " 'Kecimen' 'Besni' 'Kecimen' 'Kecimen' 'Kecimen' 'Besni' 'Kecimen'\n",
      " 'Kecimen' 'Kecimen' 'Besni' 'Kecimen' 'Kecimen' 'Kecimen' 'Kecimen'\n",
      " 'Kecimen' 'Besni' 'Besni' 'Besni' 'Besni' 'Kecimen' 'Besni' 'Kecimen'\n",
      " 'Kecimen' 'Kecimen' 'Besni' 'Besni' 'Besni' 'Kecimen' 'Kecimen' 'Besni'\n",
      " 'Kecimen' 'Besni']\n",
      "[[76 21]\n",
      " [10 73]]\n",
      "0.8277777777777777\n",
      "              precision    recall  f1-score   support\n",
      "\n",
      "       Besni       0.88      0.78      0.83        97\n",
      "     Kecimen       0.78      0.88      0.82        83\n",
      "\n",
      "    accuracy                           0.83       180\n",
      "   macro avg       0.83      0.83      0.83       180\n",
      "weighted avg       0.83      0.83      0.83       180\n",
      "\n"
     ]
    },
    {
     "data": {
      "image/png": "[encoded data removed]",
      "text/plain": [
       "<Figure size 432x288 with 1 Axes>"
      ]
     },
     "metadata": {
      "needs_background": "light"
     },
     "output_type": "display_data"
    },
    {
     "name": "stdout",
     "output_type": "stream",
     "text": [
      "PREDICTED VALUES USING KNN ARE:\n",
      "['Besni' 'Kecimen' 'Besni' 'Kecimen' 'Besni' 'Besni' 'Besni' 'Kecimen'\n",
      " 'Kecimen' 'Besni' 'Besni' 'Kecimen' 'Kecimen' 'Kecimen' 'Besni' 'Kecimen'\n",
      " 'Besni' 'Besni' 'Besni' 'Kecimen' 'Kecimen' 'Besni' 'Besni' 'Besni'\n",
      " 'Kecimen' 'Kecimen' 'Kecimen' 'Besni' 'Besni' 'Besni' 'Kecimen' 'Besni'\n",
      " 'Kecimen' 'Kecimen' 'Besni' 'Besni' 'Kecimen' 'Kecimen' 'Besni' 'Besni'\n",
      " 'Kecimen' 'Kecimen' 'Kecimen' 'Kecimen' 'Besni' 'Besni' 'Besni' 'Kecimen'\n",
      " 'Kecimen' 'Besni' 'Kecimen' 'Kecimen' 'Kecimen' 'Kecimen' 'Besni'\n",
      " 'Kecimen' 'Kecimen' 'Besni' 'Kecimen' 'Kecimen' 'Besni' 'Kecimen'\n",
      " 'Kecimen' 'Besni' 'Kecimen' 'Besni' 'Besni' 'Besni' 'Kecimen' 'Besni'\n",
      " 'Besni' 'Besni' 'Kecimen' 'Besni' 'Kecimen' 'Besni' 'Besni' 'Kecimen'\n",
      " 'Kecimen' 'Kecimen' 'Kecimen' 'Besni' 'Besni' 'Kecimen' 'Besni' 'Besni'\n",
      " 'Besni' 'Besni' 'Kecimen' 'Kecimen' 'Kecimen' 'Kecimen' 'Kecimen' 'Besni'\n",
      " 'Besni' 'Besni' 'Kecimen' 'Besni' 'Besni' 'Kecimen' 'Besni' 'Kecimen'\n",
      " 'Kecimen' 'Besni' 'Besni' 'Besni' 'Besni' 'Kecimen' 'Besni' 'Besni'\n",
      " 'Kecimen' 'Kecimen' 'Besni' 'Kecimen' 'Besni' 'Besni' 'Besni' 'Besni'\n",
      " 'Kecimen' 'Kecimen' 'Besni' 'Besni' 'Besni' 'Kecimen' 'Kecimen' 'Kecimen'\n",
      " 'Kecimen' 'Kecimen' 'Kecimen' 'Besni' 'Kecimen' 'Kecimen' 'Kecimen'\n",
      " 'Besni' 'Kecimen' 'Besni' 'Besni' 'Kecimen' 'Kecimen' 'Besni' 'Besni'\n",
      " 'Kecimen' 'Kecimen' 'Besni' 'Kecimen' 'Kecimen' 'Kecimen' 'Besni'\n",
      " 'Kecimen' 'Besni' 'Kecimen' 'Kecimen' 'Kecimen' 'Besni' 'Kecimen'\n",
      " 'Kecimen' 'Kecimen' 'Besni' 'Kecimen' 'Kecimen' 'Kecimen' 'Kecimen'\n",
      " 'Kecimen' 'Besni' 'Besni' 'Besni' 'Besni' 'Kecimen' 'Besni' 'Kecimen'\n",
      " 'Kecimen' 'Kecimen' 'Besni' 'Besni' 'Besni' 'Kecimen' 'Kecimen' 'Besni'\n",
      " 'Kecimen' 'Besni']\n",
      "[[76 21]\n",
      " [10 73]]\n",
      "0.8277777777777777\n",
      "              precision    recall  f1-score   support\n",
      "\n",
      "       Besni       0.88      0.78      0.83        97\n",
      "     Kecimen       0.78      0.88      0.82        83\n",
      "\n",
      "    accuracy                           0.83       180\n",
      "   macro avg       0.83      0.83      0.83       180\n",
      "weighted avg       0.83      0.83      0.83       180\n",
      "\n"
     ]
    },
    {
     "data": {
      "image/png": "[encoded data removed]",
      "text/plain": [
       "<Figure size 432x288 with 1 Axes>"
      ]
     },
     "metadata": {
      "needs_background": "light"
     },
     "output_type": "display_data"
    }
   ],
   "source": [
    "features_1=list(zip(f1, f2))\n",
    "X_train, X_test, y_train, y_test = train_test_split(features_1, label, test_size=0.2, random_state=0)\n",
    "model = KNeighborsClassifier(n_neighbors=3)\n",
    "model.fit(X_train, y_train)\n",
    "y_pred= model.predict(X_test)\n",
    "\n",
    "print(\"PREDICTED VALUES USING KNN ARE:\")\n",
    "# for i in y_pred:\n",
    "#     print(i)\n",
    "print(y_pred)\n",
    "cm = confusion_matrix(y_test, y_pred)\n",
    "ac  = accuracy_score(y_test, y_pred)\n",
    "cm_report = metrics.classification_report(y_test,y_pred)\n",
    "print(cm)\n",
    "print(ac)\n",
    "print(cm_report)\n",
    "cmd = ConfusionMatrixDisplay(cm, display_labels=['1','0'])\n",
    "cmd.plot(colorbar=False, cmap='Blues')\n",
    "plt.show()\n",
    "\n",
    "features_2=list(zip(f1, f2,f3))\n",
    "X1_train, X1_test, y1_train, y1_test = train_test_split(features_2, label, test_size=0.2, random_state=0)\n",
    "model = KNeighborsClassifier(n_neighbors=3)\n",
    "model.fit(X1_train, y1_train)\n",
    "y1_pred= model.predict(X1_test)\n",
    "print(\"PREDICTED VALUES USING KNN ARE:\")\n",
    "# for i in y1_pred:\n",
    "#     print(i)\n",
    "print(y1_pred)\n",
    "\n",
    "cm1 = confusion_matrix(y1_test, y1_pred)\n",
    "ac1  = accuracy_score(y1_test, y1_pred)\n",
    "cm_report1 = metrics.classification_report(y1_test,y1_pred)\n",
    "print(cm1)\n",
    "print(ac1)\n",
    "print(cm_report1)\n",
    "cmd1 = ConfusionMatrixDisplay(cm1, display_labels=['1','0'])\n",
    "cmd1.plot(colorbar=False, cmap='Blues')\n",
    "plt.show()\n",
    "\n",
    "features_3=list(zip(f1, f2,f3,f4))\n",
    "X2_train, X2_test, y2_train, y2_test = train_test_split(features_3, label, test_size=0.2, random_state=0)\n",
    "model = KNeighborsClassifier(n_neighbors=3)\n",
    "model.fit(X2_train, y2_train)\n",
    "y2_pred= model.predict(X2_test)\n",
    "print(\"PREDICTED VALUES USING KNN ARE:\")\n",
    "# for i in y2_pred:\n",
    "#     print(i)\n",
    "print(y2_pred)\n",
    "cm2 = confusion_matrix(y2_test, y2_pred)\n",
    "ac2  = accuracy_score(y2_test, y2_pred)\n",
    "cm_report2 = metrics.classification_report(y_test,y_pred)\n",
    "print(cm2)\n",
    "print(ac2)\n",
    "print(cm_report2)\n",
    "cmd2 = ConfusionMatrixDisplay(cm, display_labels=['1','0'])\n",
    "cmd2.plot(colorbar=False, cmap='Blues')\n",
    "plt.show()\n",
    "\n",
    "features_3=list(zip(f1, f2,f3,f4,f5))\n",
    "X2_train, X2_test, y2_train, y2_test = train_test_split(features_3, label, test_size=0.2, random_state=0)\n",
    "model = KNeighborsClassifier(n_neighbors=3)\n",
    "model.fit(X2_train, y2_train)\n",
    "y2_pred= model.predict(X2_test)\n",
    "print(\"PREDICTED VALUES USING KNN ARE:\")\n",
    "# for i in y2_pred:\n",
    "#     print(i)\n",
    "print(y2_pred)\n",
    "cm2 = confusion_matrix(y2_test, y2_pred)\n",
    "ac2  = accuracy_score(y2_test, y2_pred)\n",
    "cm_report2 = metrics.classification_report(y_test,y_pred)\n",
    "print(cm2)\n",
    "print(ac2)\n",
    "print(cm_report2)\n",
    "cmd2 = ConfusionMatrixDisplay(cm, display_labels=['1','0'])\n",
    "cmd2.plot(colorbar=False, cmap='Blues')\n",
    "plt.show()\n",
    "\n",
    "features_3=list(zip(f1, f2,f3,f4,f5,f6))\n",
    "X2_train, X2_test, y2_train, y2_test = train_test_split(features_3, label, test_size=0.2, random_state=0)\n",
    "model = KNeighborsClassifier(n_neighbors=3)\n",
    "model.fit(X2_train, y2_train)\n",
    "y2_pred= model.predict(X2_test)\n",
    "print(\"PREDICTED VALUES USING KNN ARE:\")\n",
    "# for i in y2_pred:\n",
    "#     print(i)\n",
    "print(y2_pred)\n",
    "cm2 = confusion_matrix(y2_test, y2_pred)\n",
    "ac2  = accuracy_score(y2_test, y2_pred)\n",
    "cm_report2 = metrics.classification_report(y_test,y_pred)\n",
    "print(cm2)\n",
    "print(ac2)\n",
    "print(cm_report2)\n",
    "cmd2 = ConfusionMatrixDisplay(cm, display_labels=['1','0'])\n",
    "cmd2.plot(colorbar=False, cmap='Blues')\n",
    "plt.show()"
   ]
  },
  {
   "cell_type": "markdown",
   "id": "bd95567a",
   "metadata": {},
   "source": [
    "### KNN ON THE BASIS OF 2 OR MORE FEATURES (DATASET 2)"
   ]
  },
  {
   "cell_type": "code",
   "execution_count": 8,
   "id": "4b526f6e",
   "metadata": {},
   "outputs": [],
   "source": [
    "f1 = np.array(dataframe2['Mean'])\n",
    "f2 = np.array(dataframe2['Standard_Deviation'])\n",
    "f3 = np.array(dataframe2['Excess_Kurtosis'])\n",
    "f8 = np.array(dataframe2['Skewness'])\n",
    "f4 = np.array(dataframe2['Mean_DM-SNR'])\n",
    "f5 = np.array(dataframe2['Standard_Deviation_DM-SNR'])\n",
    "f6 = np.array(dataframe2['Excess_Kurtosis_DM-SNR'])\n",
    "f7 = np.array(dataframe2['Skewness_DM-SNR'])\n",
    "label = np.array(dataframe2['Class'])"
   ]
  },
  {
   "cell_type": "code",
   "execution_count": 9,
   "id": "637320a9",
   "metadata": {},
   "outputs": [
    {
     "name": "stdout",
     "output_type": "stream",
     "text": [
      "PREDICTED VALUES USING KNN ARE:\n",
      "[0 0 0 ... 0 0 0]\n",
      "[[3244   33]\n",
      " [  82  221]]\n",
      "0.9678770949720671\n",
      "              precision    recall  f1-score   support\n",
      "\n",
      "           0       0.98      0.99      0.98      3277\n",
      "           1       0.87      0.73      0.79       303\n",
      "\n",
      "    accuracy                           0.97      3580\n",
      "   macro avg       0.92      0.86      0.89      3580\n",
      "weighted avg       0.97      0.97      0.97      3580\n",
      "\n"
     ]
    },
    {
     "data": {
      "image/png": "[encoded data removed]",
      "text/plain": [
       "<Figure size 432x288 with 1 Axes>"
      ]
     },
     "metadata": {
      "needs_background": "light"
     },
     "output_type": "display_data"
    }
   ],
   "source": [
    "features_1=list(zip(f1, f2))\n",
    "X_train, X_test, y_train, y_test = train_test_split(features_1, label, test_size=0.2, random_state=0)\n",
    "model = KNeighborsClassifier(n_neighbors=3)\n",
    "model.fit(X_train, y_train)\n",
    "y_pred= model.predict(X_test)\n",
    "print(\"PREDICTED VALUES USING KNN ARE:\")\n",
    "# for i in y_pred:\n",
    "#     print(i)\n",
    "print(y_pred)\n",
    "\n",
    "cm = confusion_matrix(y_test, y_pred)\n",
    "ac  = accuracy_score(y_test, y_pred)\n",
    "cm_report = metrics.classification_report(y_test,y_pred)\n",
    "print(cm)\n",
    "print(ac)\n",
    "print(cm_report)\n",
    "cmd = ConfusionMatrixDisplay(cm, display_labels=['1','0'])\n",
    "cmd.plot(colorbar=False, cmap='Blues')\n",
    "plt.show()\n"
   ]
  },
  {
   "cell_type": "code",
   "execution_count": 10,
   "id": "b8688a70",
   "metadata": {},
   "outputs": [
    {
     "name": "stdout",
     "output_type": "stream",
     "text": [
      "PREDICTED VALUES USING KNN ARE:\n",
      "[0 0 0 ... 0 0 0]\n",
      "[[3255   22]\n",
      " [  66  237]]\n",
      "0.9754189944134078\n",
      "              precision    recall  f1-score   support\n",
      "\n",
      "           0       0.98      0.99      0.99      3277\n",
      "           1       0.92      0.78      0.84       303\n",
      "\n",
      "    accuracy                           0.98      3580\n",
      "   macro avg       0.95      0.89      0.92      3580\n",
      "weighted avg       0.97      0.98      0.97      3580\n",
      "\n"
     ]
    },
    {
     "data": {
      "image/png": "[encoded data removed]",
      "text/plain": [
       "<Figure size 432x288 with 1 Axes>"
      ]
     },
     "metadata": {
      "needs_background": "light"
     },
     "output_type": "display_data"
    }
   ],
   "source": [
    "features_2=list(zip(f1, f2,f3))\n",
    "X_train, X_test, y_train, y_test = train_test_split(features_2, label, test_size=0.2, random_state=0)\n",
    "model = KNeighborsClassifier(n_neighbors=3)\n",
    "model.fit(X_train, y_train)\n",
    "y_pred= model.predict(X_test)\n",
    "print(\"PREDICTED VALUES USING KNN ARE:\")\n",
    "# for i in y_pred:\n",
    "#     print(i)\n",
    "print(y_pred)\n",
    "\n",
    "cm = confusion_matrix(y_test, y_pred)\n",
    "ac  = accuracy_score(y_test, y_pred)\n",
    "cm_report = metrics.classification_report(y_test,y_pred)\n",
    "print(cm)\n",
    "print(ac)\n",
    "print(cm_report)\n",
    "cmd = ConfusionMatrixDisplay(cm, display_labels=['1','0'])\n",
    "cmd.plot(colorbar=False, cmap='Blues')\n",
    "plt.show()"
   ]
  },
  {
   "cell_type": "code",
   "execution_count": 11,
   "id": "0b4bcac9",
   "metadata": {},
   "outputs": [
    {
     "name": "stdout",
     "output_type": "stream",
     "text": [
      "PREDICTED VALUES USING KNN ARE:\n",
      "[0 0 0 ... 0 0 0]\n",
      "[[3242   35]\n",
      " [  63  240]]\n",
      "0.9726256983240223\n",
      "              precision    recall  f1-score   support\n",
      "\n",
      "           0       0.98      0.99      0.99      3277\n",
      "           1       0.87      0.79      0.83       303\n",
      "\n",
      "    accuracy                           0.97      3580\n",
      "   macro avg       0.93      0.89      0.91      3580\n",
      "weighted avg       0.97      0.97      0.97      3580\n",
      "\n"
     ]
    },
    {
     "data": {
      "image/png": "[encoded data removed]",
      "text/plain": [
       "<Figure size 432x288 with 1 Axes>"
      ]
     },
     "metadata": {
      "needs_background": "light"
     },
     "output_type": "display_data"
    }
   ],
   "source": [
    "features_3=list(zip(f1,f2,f3,f4))\n",
    "X_train, X_test, y_train, y_test = train_test_split(features_3, label, test_size=0.2, random_state=0)\n",
    "model = KNeighborsClassifier(n_neighbors=3)\n",
    "model.fit(X_train, y_train)\n",
    "y_pred= model.predict(X_test)\n",
    "print(\"PREDICTED VALUES USING KNN ARE:\")\n",
    "# for i in y_pred:\n",
    "#     print(i)\n",
    "\n",
    "print(y_pred)\n",
    "cm = confusion_matrix(y_test, y_pred)\n",
    "ac  = accuracy_score(y_test, y_pred)\n",
    "cm_report = metrics.classification_report(y_test,y_pred)\n",
    "print(cm)\n",
    "print(ac)\n",
    "print(cm_report)\n",
    "cmd = ConfusionMatrixDisplay(cm, display_labels=['1','0'])\n",
    "cmd.plot(colorbar=False, cmap='Blues')\n",
    "plt.show()\n",
    "\n",
    "\n"
   ]
  },
  {
   "cell_type": "code",
   "execution_count": 12,
   "id": "4c05099f",
   "metadata": {},
   "outputs": [
    {
     "name": "stdout",
     "output_type": "stream",
     "text": [
      "PREDICTED VALUES USING KNN ARE:\n",
      "[0 0 0 ... 0 0 0]\n",
      "[[3236   41]\n",
      " [  63  240]]\n",
      "0.9709497206703911\n",
      "              precision    recall  f1-score   support\n",
      "\n",
      "           0       0.98      0.99      0.98      3277\n",
      "           1       0.85      0.79      0.82       303\n",
      "\n",
      "    accuracy                           0.97      3580\n",
      "   macro avg       0.92      0.89      0.90      3580\n",
      "weighted avg       0.97      0.97      0.97      3580\n",
      "\n"
     ]
    },
    {
     "data": {
      "image/png": "[encoded data removed]",
      "text/plain": [
       "<Figure size 432x288 with 1 Axes>"
      ]
     },
     "metadata": {
      "needs_background": "light"
     },
     "output_type": "display_data"
    }
   ],
   "source": [
    "features_4=list(zip(f1,f2,f3,f4,f5,f6))\n",
    "X_train, X_test, y_train, y_test = train_test_split(features_4, label, test_size=0.2, random_state=0)\n",
    "model = KNeighborsClassifier(n_neighbors=3)\n",
    "model.fit(X_train, y_train)\n",
    "y_pred= model.predict(X_test)\n",
    "\n",
    "print(\"PREDICTED VALUES USING KNN ARE:\")\n",
    "# for i in y_pred:\n",
    "#     print(i)\n",
    "print(y_pred)    \n",
    "cm = confusion_matrix(y_test, y_pred)\n",
    "ac  = accuracy_score(y_test, y_pred)\n",
    "cm_report = metrics.classification_report(y_test,y_pred)\n",
    "print(cm)\n",
    "print(ac)\n",
    "print(cm_report)\n",
    "cmd = ConfusionMatrixDisplay(cm, display_labels=['1','0'])\n",
    "cmd.plot(colorbar=False, cmap='Blues')\n",
    "plt.show()"
   ]
  },
  {
   "cell_type": "code",
   "execution_count": 13,
   "id": "6422073e",
   "metadata": {},
   "outputs": [
    {
     "name": "stdout",
     "output_type": "stream",
     "text": [
      "PREDICTED VALUES USING KNN ARE:\n",
      "[0 0 0 ... 0 0 0]\n",
      "[[3242   35]\n",
      " [  68  235]]\n",
      "0.9712290502793296\n",
      "              precision    recall  f1-score   support\n",
      "\n",
      "           0       0.98      0.99      0.98      3277\n",
      "           1       0.87      0.78      0.82       303\n",
      "\n",
      "    accuracy                           0.97      3580\n",
      "   macro avg       0.92      0.88      0.90      3580\n",
      "weighted avg       0.97      0.97      0.97      3580\n",
      "\n"
     ]
    },
    {
     "data": {
      "image/png": "[encoded data removed]",
      "text/plain": [
       "<Figure size 432x288 with 1 Axes>"
      ]
     },
     "metadata": {
      "needs_background": "light"
     },
     "output_type": "display_data"
    }
   ],
   "source": [
    "features_5=list(zip(f1,f2,f3,f4,f5,f6,f7))\n",
    "X_train, X_test, y_train, y_test = train_test_split(features_5, label, test_size=0.2, random_state=0)\n",
    "model = KNeighborsClassifier(n_neighbors=3)\n",
    "model.fit(X_train, y_train)\n",
    "y_pred= model.predict(X_test)\n",
    "\n",
    "print(\"PREDICTED VALUES USING KNN ARE:\")\n",
    "# for i in y_pred:\n",
    "#     print(i)\n",
    "print(y_pred)\n",
    "cm = confusion_matrix(y_test, y_pred)\n",
    "ac  = accuracy_score(y_test, y_pred)\n",
    "cm_report = metrics.classification_report(y_test,y_pred)\n",
    "print(cm)\n",
    "print(ac)\n",
    "print(cm_report)\n",
    "cmd = ConfusionMatrixDisplay(cm, display_labels=['1','0'])\n",
    "cmd.plot(colorbar=False, cmap='Blues')\n",
    "plt.show()\n"
   ]
  },
  {
   "cell_type": "code",
   "execution_count": 14,
   "id": "33b2482e",
   "metadata": {},
   "outputs": [
    {
     "name": "stdout",
     "output_type": "stream",
     "text": [
      "PREDICTED VALUES USING KNN ARE:\n",
      "[0 0 0 ... 0 0 0]\n",
      "[[3242   35]\n",
      " [  68  235]]\n",
      "0.9712290502793296\n",
      "              precision    recall  f1-score   support\n",
      "\n",
      "           0       0.98      0.99      0.98      3277\n",
      "           1       0.87      0.78      0.82       303\n",
      "\n",
      "    accuracy                           0.97      3580\n",
      "   macro avg       0.92      0.88      0.90      3580\n",
      "weighted avg       0.97      0.97      0.97      3580\n",
      "\n"
     ]
    },
    {
     "data": {
      "image/png": "[encoded data removed]",
      "text/plain": [
       "<Figure size 432x288 with 1 Axes>"
      ]
     },
     "metadata": {
      "needs_background": "light"
     },
     "output_type": "display_data"
    }
   ],
   "source": [
    "features_6=list(zip(f1,f2,f3,f4,f5,f6,f7,f8))\n",
    "X_train, X_test, y_train, y_test = train_test_split(features_5, label, test_size=0.2, random_state=0)\n",
    "model = KNeighborsClassifier(n_neighbors=3)\n",
    "model.fit(X_train, y_train)\n",
    "y_pred= model.predict(X_test)\n",
    "\n",
    "print(\"PREDICTED VALUES USING KNN ARE:\")\n",
    "# for i in y_pred:\n",
    "#     print(i)\n",
    "print(y_pred)\n",
    "\n",
    "cm = confusion_matrix(y_test, y_pred)\n",
    "ac  = accuracy_score(y_test, y_pred)\n",
    "cm_report = metrics.classification_report(y_test,y_pred)\n",
    "print(cm)\n",
    "print(ac)\n",
    "print(cm_report)\n",
    "cmd = ConfusionMatrixDisplay(cm, display_labels=['1','0'])\n",
    "cmd.plot(colorbar=False, cmap='Blues')\n",
    "plt.show()"
   ]
  },
  {
   "cell_type": "code",
   "execution_count": 15,
   "id": "ed7905e4",
   "metadata": {},
   "outputs": [
    {
     "name": "stdout",
     "output_type": "stream",
     "text": [
      "PREDICTED VALUES USING KNN ARE:\n",
      "[0 0 0 ... 0 0 0]\n",
      "[[3242   35]\n",
      " [  68  235]]\n",
      "0.9712290502793296\n",
      "              precision    recall  f1-score   support\n",
      "\n",
      "           0       0.98      0.99      0.98      3277\n",
      "           1       0.87      0.78      0.82       303\n",
      "\n",
      "    accuracy                           0.97      3580\n",
      "   macro avg       0.92      0.88      0.90      3580\n",
      "weighted avg       0.97      0.97      0.97      3580\n",
      "\n"
     ]
    },
    {
     "data": {
      "image/png": "[encoded data removed]",
      "text/plain": [
       "<Figure size 432x288 with 1 Axes>"
      ]
     },
     "metadata": {
      "needs_background": "light"
     },
     "output_type": "display_data"
    }
   ],
   "source": [
    "features_6=list(zip(f1,f2,f3,f4,f5))\n",
    "X_train, X_test, y_train, y_test = train_test_split(features_5, label, test_size=0.2, random_state=0)\n",
    "model = KNeighborsClassifier(n_neighbors=3)\n",
    "model.fit(X_train, y_train)\n",
    "y_pred= model.predict(X_test)\n",
    "\n",
    "print(\"PREDICTED VALUES USING KNN ARE:\")\n",
    "# for i in y_pred:\n",
    "#     print(i)\n",
    "print(y_pred)\n",
    "\n",
    "cm = confusion_matrix(y_test, y_pred)\n",
    "ac  = accuracy_score(y_test, y_pred)\n",
    "cm_report = metrics.classification_report(y_test,y_pred)\n",
    "print(cm)\n",
    "print(ac)\n",
    "print(cm_report)\n",
    "cmd = ConfusionMatrixDisplay(cm, display_labels=['1','0'])\n",
    "cmd.plot(colorbar=False, cmap='Blues')\n",
    "plt.show()"
   ]
  },
  {
   "cell_type": "markdown",
   "id": "9d249631",
   "metadata": {},
   "source": [
    "### NAIVE BAYES ON THE BASIS OF 2 OR MORE FEATURES(DATASET 1)"
   ]
  },
  {
   "cell_type": "code",
   "execution_count": 16,
   "id": "b27bf486",
   "metadata": {},
   "outputs": [],
   "source": [
    "f1 = np.array(dataframe1['Area'])\n",
    "f2 = np.array(dataframe1['ConvexArea'])\n",
    "f3 = np.array(dataframe1['Extent'])\n",
    "f4 = np.array(dataframe1['MajorAxisLength'])\n",
    "f5 = np.array(dataframe1['MinorAxisLength'])\n",
    "f6 = np.array(dataframe1['Perimeter'])\n",
    "label = np.array(dataframe1['Class'])"
   ]
  },
  {
   "cell_type": "code",
   "execution_count": 17,
   "id": "7bf90d4d",
   "metadata": {},
   "outputs": [
    {
     "name": "stdout",
     "output_type": "stream",
     "text": [
      "PREDICTED VALUES USING NAIVE BAYES ARE:\n",
      "['Besni' 'Kecimen' 'Besni' 'Kecimen' 'Besni' 'Besni' 'Besni' 'Kecimen'\n",
      " 'Kecimen' 'Besni' 'Besni' 'Kecimen' 'Kecimen' 'Kecimen' 'Besni' 'Kecimen'\n",
      " 'Kecimen' 'Besni' 'Kecimen' 'Kecimen' 'Kecimen' 'Besni' 'Besni' 'Besni'\n",
      " 'Kecimen' 'Kecimen' 'Kecimen' 'Besni' 'Besni' 'Besni' 'Kecimen' 'Besni'\n",
      " 'Kecimen' 'Besni' 'Besni' 'Besni' 'Kecimen' 'Kecimen' 'Besni' 'Besni'\n",
      " 'Kecimen' 'Kecimen' 'Kecimen' 'Kecimen' 'Kecimen' 'Besni' 'Kecimen'\n",
      " 'Kecimen' 'Kecimen' 'Besni' 'Kecimen' 'Kecimen' 'Kecimen' 'Kecimen'\n",
      " 'Besni' 'Kecimen' 'Kecimen' 'Besni' 'Kecimen' 'Kecimen' 'Besni' 'Kecimen'\n",
      " 'Kecimen' 'Besni' 'Kecimen' 'Kecimen' 'Besni' 'Besni' 'Besni' 'Besni'\n",
      " 'Besni' 'Besni' 'Kecimen' 'Besni' 'Kecimen' 'Kecimen' 'Besni' 'Kecimen'\n",
      " 'Kecimen' 'Kecimen' 'Kecimen' 'Besni' 'Besni' 'Kecimen' 'Besni' 'Besni'\n",
      " 'Kecimen' 'Besni' 'Kecimen' 'Kecimen' 'Kecimen' 'Kecimen' 'Besni' 'Besni'\n",
      " 'Kecimen' 'Besni' 'Kecimen' 'Besni' 'Besni' 'Kecimen' 'Besni' 'Kecimen'\n",
      " 'Kecimen' 'Besni' 'Besni' 'Besni' 'Besni' 'Kecimen' 'Besni' 'Besni'\n",
      " 'Kecimen' 'Kecimen' 'Besni' 'Kecimen' 'Besni' 'Besni' 'Kecimen' 'Besni'\n",
      " 'Kecimen' 'Kecimen' 'Besni' 'Besni' 'Besni' 'Kecimen' 'Kecimen' 'Kecimen'\n",
      " 'Besni' 'Kecimen' 'Kecimen' 'Kecimen' 'Kecimen' 'Kecimen' 'Kecimen'\n",
      " 'Besni' 'Kecimen' 'Besni' 'Kecimen' 'Kecimen' 'Kecimen' 'Besni' 'Besni'\n",
      " 'Kecimen' 'Kecimen' 'Besni' 'Kecimen' 'Kecimen' 'Kecimen' 'Besni'\n",
      " 'Kecimen' 'Besni' 'Kecimen' 'Kecimen' 'Kecimen' 'Kecimen' 'Kecimen'\n",
      " 'Kecimen' 'Kecimen' 'Besni' 'Kecimen' 'Kecimen' 'Kecimen' 'Kecimen'\n",
      " 'Kecimen' 'Besni' 'Besni' 'Besni' 'Kecimen' 'Kecimen' 'Besni' 'Kecimen'\n",
      " 'Kecimen' 'Kecimen' 'Kecimen' 'Kecimen' 'Besni' 'Kecimen' 'Kecimen'\n",
      " 'Besni' 'Kecimen' 'Kecimen']\n",
      "[[69 28]\n",
      " [ 5 78]]\n",
      "0.8166666666666667\n",
      "              precision    recall  f1-score   support\n",
      "\n",
      "       Besni       0.93      0.71      0.81        97\n",
      "     Kecimen       0.74      0.94      0.83        83\n",
      "\n",
      "    accuracy                           0.82       180\n",
      "   macro avg       0.83      0.83      0.82       180\n",
      "weighted avg       0.84      0.82      0.82       180\n",
      "\n"
     ]
    },
    {
     "data": {
      "image/png": "[encoded data removed]",
      "text/plain": [
       "<Figure size 432x288 with 1 Axes>"
      ]
     },
     "metadata": {
      "needs_background": "light"
     },
     "output_type": "display_data"
    }
   ],
   "source": [
    "features_1=list(zip(f1, f2))\n",
    "X_train, X_test, y_train, y_test = train_test_split(features_1, label, test_size=0.2, random_state=0)\n",
    "model = GaussianNB()\n",
    "model.fit(X_train, y_train)\n",
    "y_pred= model.predict(X_test)\n",
    "\n",
    "print(\"PREDICTED VALUES USING NAIVE BAYES ARE:\")\n",
    "# for i in y_pred:\n",
    "#     print(i)\n",
    "print(y_pred)\n",
    "\n",
    "cm = confusion_matrix(y_test, y_pred)\n",
    "ac  = accuracy_score(y_test, y_pred)\n",
    "cm_report = metrics.classification_report(y_test,y_pred)\n",
    "print(cm)\n",
    "print(ac)\n",
    "print(cm_report)\n",
    "cmd = ConfusionMatrixDisplay(cm, display_labels=['1','0'])\n",
    "cmd.plot(colorbar=False, cmap='Blues')\n",
    "plt.show()\n"
   ]
  },
  {
   "cell_type": "code",
   "execution_count": 18,
   "id": "fece6a14",
   "metadata": {},
   "outputs": [
    {
     "name": "stdout",
     "output_type": "stream",
     "text": [
      "PREDICTED VALUES USING NAIVE BAYES ARE:\n",
      "['Besni' 'Kecimen' 'Besni' 'Kecimen' 'Besni' 'Besni' 'Besni' 'Kecimen'\n",
      " 'Kecimen' 'Besni' 'Besni' 'Kecimen' 'Kecimen' 'Kecimen' 'Besni' 'Kecimen'\n",
      " 'Kecimen' 'Besni' 'Kecimen' 'Kecimen' 'Kecimen' 'Besni' 'Besni' 'Besni'\n",
      " 'Kecimen' 'Kecimen' 'Kecimen' 'Besni' 'Besni' 'Besni' 'Kecimen' 'Besni'\n",
      " 'Kecimen' 'Besni' 'Besni' 'Besni' 'Kecimen' 'Kecimen' 'Besni' 'Besni'\n",
      " 'Kecimen' 'Kecimen' 'Kecimen' 'Kecimen' 'Kecimen' 'Besni' 'Kecimen'\n",
      " 'Kecimen' 'Kecimen' 'Besni' 'Kecimen' 'Kecimen' 'Kecimen' 'Kecimen'\n",
      " 'Besni' 'Kecimen' 'Kecimen' 'Besni' 'Kecimen' 'Kecimen' 'Besni' 'Kecimen'\n",
      " 'Kecimen' 'Besni' 'Kecimen' 'Kecimen' 'Besni' 'Besni' 'Besni' 'Besni'\n",
      " 'Besni' 'Besni' 'Kecimen' 'Besni' 'Kecimen' 'Kecimen' 'Besni' 'Kecimen'\n",
      " 'Kecimen' 'Kecimen' 'Kecimen' 'Besni' 'Besni' 'Kecimen' 'Besni' 'Besni'\n",
      " 'Kecimen' 'Besni' 'Kecimen' 'Kecimen' 'Kecimen' 'Kecimen' 'Besni' 'Besni'\n",
      " 'Kecimen' 'Besni' 'Kecimen' 'Besni' 'Besni' 'Kecimen' 'Besni' 'Kecimen'\n",
      " 'Kecimen' 'Besni' 'Besni' 'Besni' 'Besni' 'Kecimen' 'Besni' 'Besni'\n",
      " 'Kecimen' 'Kecimen' 'Besni' 'Kecimen' 'Besni' 'Besni' 'Kecimen' 'Besni'\n",
      " 'Kecimen' 'Kecimen' 'Besni' 'Besni' 'Besni' 'Kecimen' 'Kecimen' 'Kecimen'\n",
      " 'Besni' 'Kecimen' 'Kecimen' 'Kecimen' 'Kecimen' 'Kecimen' 'Kecimen'\n",
      " 'Besni' 'Kecimen' 'Besni' 'Kecimen' 'Kecimen' 'Kecimen' 'Besni' 'Besni'\n",
      " 'Kecimen' 'Kecimen' 'Besni' 'Kecimen' 'Kecimen' 'Kecimen' 'Besni'\n",
      " 'Kecimen' 'Besni' 'Kecimen' 'Kecimen' 'Kecimen' 'Kecimen' 'Kecimen'\n",
      " 'Kecimen' 'Kecimen' 'Besni' 'Kecimen' 'Kecimen' 'Kecimen' 'Kecimen'\n",
      " 'Kecimen' 'Besni' 'Besni' 'Besni' 'Kecimen' 'Kecimen' 'Besni' 'Kecimen'\n",
      " 'Kecimen' 'Kecimen' 'Kecimen' 'Kecimen' 'Besni' 'Kecimen' 'Kecimen'\n",
      " 'Besni' 'Kecimen' 'Kecimen']\n",
      "[[69 28]\n",
      " [ 5 78]]\n",
      "0.8166666666666667\n",
      "              precision    recall  f1-score   support\n",
      "\n",
      "       Besni       0.93      0.71      0.81        97\n",
      "     Kecimen       0.74      0.94      0.83        83\n",
      "\n",
      "    accuracy                           0.82       180\n",
      "   macro avg       0.83      0.83      0.82       180\n",
      "weighted avg       0.84      0.82      0.82       180\n",
      "\n"
     ]
    },
    {
     "data": {
      "image/png": "[encoded data removed]",
      "text/plain": [
       "<Figure size 432x288 with 1 Axes>"
      ]
     },
     "metadata": {
      "needs_background": "light"
     },
     "output_type": "display_data"
    }
   ],
   "source": [
    "features_2=list(zip(f1, f2,f3))\n",
    "X_train, X_test, y_train, y_test = train_test_split(features_2, label, test_size=0.2, random_state=0)\n",
    "model = model = GaussianNB()\n",
    "model.fit(X_train, y_train)\n",
    "y_pred= model.predict(X_test)\n",
    "\n",
    "print(\"PREDICTED VALUES USING NAIVE BAYES ARE:\")\n",
    "# for i in y_pred:\n",
    "#     print(i)\n",
    "print(y_pred)\n",
    "\n",
    "cm = confusion_matrix(y_test, y_pred)\n",
    "ac  = accuracy_score(y_test, y_pred)\n",
    "cm_report = metrics.classification_report(y_test,y_pred)\n",
    "print(cm)\n",
    "print(ac)\n",
    "print(cm_report)\n",
    "cmd = ConfusionMatrixDisplay(cm, display_labels=['1','0'])\n",
    "cmd.plot(colorbar=False, cmap='Blues')\n",
    "plt.show()"
   ]
  },
  {
   "cell_type": "code",
   "execution_count": 19,
   "id": "6dc906ad",
   "metadata": {},
   "outputs": [
    {
     "name": "stdout",
     "output_type": "stream",
     "text": [
      "PREDICTED VALUES USING NAIVE BAYES ARE:\n",
      "['Besni' 'Kecimen' 'Besni' 'Kecimen' 'Besni' 'Besni' 'Besni' 'Kecimen'\n",
      " 'Kecimen' 'Besni' 'Besni' 'Kecimen' 'Kecimen' 'Kecimen' 'Besni' 'Kecimen'\n",
      " 'Kecimen' 'Besni' 'Kecimen' 'Kecimen' 'Kecimen' 'Besni' 'Besni' 'Besni'\n",
      " 'Kecimen' 'Kecimen' 'Kecimen' 'Besni' 'Besni' 'Besni' 'Kecimen' 'Besni'\n",
      " 'Kecimen' 'Besni' 'Besni' 'Besni' 'Kecimen' 'Kecimen' 'Besni' 'Besni'\n",
      " 'Kecimen' 'Kecimen' 'Kecimen' 'Kecimen' 'Kecimen' 'Besni' 'Kecimen'\n",
      " 'Kecimen' 'Kecimen' 'Besni' 'Kecimen' 'Kecimen' 'Kecimen' 'Kecimen'\n",
      " 'Besni' 'Kecimen' 'Kecimen' 'Besni' 'Kecimen' 'Kecimen' 'Besni' 'Kecimen'\n",
      " 'Kecimen' 'Besni' 'Kecimen' 'Kecimen' 'Besni' 'Besni' 'Besni' 'Besni'\n",
      " 'Besni' 'Besni' 'Kecimen' 'Besni' 'Kecimen' 'Kecimen' 'Besni' 'Kecimen'\n",
      " 'Kecimen' 'Kecimen' 'Kecimen' 'Besni' 'Besni' 'Kecimen' 'Besni' 'Besni'\n",
      " 'Besni' 'Besni' 'Kecimen' 'Kecimen' 'Besni' 'Kecimen' 'Besni' 'Besni'\n",
      " 'Kecimen' 'Besni' 'Kecimen' 'Besni' 'Besni' 'Kecimen' 'Besni' 'Kecimen'\n",
      " 'Kecimen' 'Besni' 'Besni' 'Kecimen' 'Besni' 'Kecimen' 'Besni' 'Besni'\n",
      " 'Kecimen' 'Kecimen' 'Besni' 'Kecimen' 'Besni' 'Besni' 'Besni' 'Besni'\n",
      " 'Kecimen' 'Kecimen' 'Besni' 'Besni' 'Besni' 'Besni' 'Kecimen' 'Kecimen'\n",
      " 'Besni' 'Kecimen' 'Kecimen' 'Kecimen' 'Kecimen' 'Kecimen' 'Kecimen'\n",
      " 'Besni' 'Kecimen' 'Besni' 'Kecimen' 'Kecimen' 'Besni' 'Besni' 'Besni'\n",
      " 'Kecimen' 'Kecimen' 'Besni' 'Kecimen' 'Kecimen' 'Kecimen' 'Besni'\n",
      " 'Kecimen' 'Besni' 'Kecimen' 'Besni' 'Kecimen' 'Kecimen' 'Kecimen' 'Besni'\n",
      " 'Kecimen' 'Besni' 'Kecimen' 'Kecimen' 'Kecimen' 'Kecimen' 'Kecimen'\n",
      " 'Besni' 'Besni' 'Besni' 'Kecimen' 'Kecimen' 'Besni' 'Kecimen' 'Kecimen'\n",
      " 'Kecimen' 'Kecimen' 'Besni' 'Besni' 'Kecimen' 'Kecimen' 'Besni' 'Kecimen'\n",
      " 'Kecimen']\n",
      "[[75 22]\n",
      " [ 6 77]]\n",
      "0.8444444444444444\n",
      "              precision    recall  f1-score   support\n",
      "\n",
      "       Besni       0.93      0.77      0.84        97\n",
      "     Kecimen       0.78      0.93      0.85        83\n",
      "\n",
      "    accuracy                           0.84       180\n",
      "   macro avg       0.85      0.85      0.84       180\n",
      "weighted avg       0.86      0.84      0.84       180\n",
      "\n"
     ]
    },
    {
     "data": {
      "image/png": "[encoded data removed]",
      "text/plain": [
       "<Figure size 432x288 with 1 Axes>"
      ]
     },
     "metadata": {
      "needs_background": "light"
     },
     "output_type": "display_data"
    }
   ],
   "source": [
    "features_2=list(zip(f1, f2,f3,f4))\n",
    "X_train, X_test, y_train, y_test = train_test_split(features_2, label, test_size=0.2, random_state=0)\n",
    "model = model = GaussianNB()\n",
    "model.fit(X_train, y_train)\n",
    "y_pred= model.predict(X_test)\n",
    "\n",
    "print(\"PREDICTED VALUES USING NAIVE BAYES ARE:\")\n",
    "# for i in y_pred:\n",
    "#     print(i)\n",
    "print(y_pred)\n",
    "\n",
    "cm = confusion_matrix(y_test, y_pred)\n",
    "ac  = accuracy_score(y_test, y_pred)\n",
    "cm_report = metrics.classification_report(y_test,y_pred)\n",
    "print(cm)\n",
    "print(ac)\n",
    "print(cm_report)\n",
    "cmd = ConfusionMatrixDisplay(cm, display_labels=['1','0'])\n",
    "cmd.plot(colorbar=False, cmap='Blues')\n",
    "plt.show()"
   ]
  },
  {
   "cell_type": "code",
   "execution_count": 20,
   "id": "cbf2dd0e",
   "metadata": {},
   "outputs": [
    {
     "name": "stdout",
     "output_type": "stream",
     "text": [
      "PREDICTED VALUES USING NAIVE BAYES ARE:\n",
      "['Besni' 'Kecimen' 'Besni' 'Kecimen' 'Besni' 'Besni' 'Besni' 'Kecimen'\n",
      " 'Kecimen' 'Besni' 'Besni' 'Kecimen' 'Kecimen' 'Kecimen' 'Besni' 'Kecimen'\n",
      " 'Kecimen' 'Besni' 'Kecimen' 'Kecimen' 'Kecimen' 'Besni' 'Besni' 'Besni'\n",
      " 'Kecimen' 'Kecimen' 'Kecimen' 'Besni' 'Besni' 'Besni' 'Kecimen' 'Besni'\n",
      " 'Kecimen' 'Besni' 'Besni' 'Besni' 'Kecimen' 'Kecimen' 'Besni' 'Besni'\n",
      " 'Kecimen' 'Kecimen' 'Kecimen' 'Kecimen' 'Kecimen' 'Besni' 'Kecimen'\n",
      " 'Kecimen' 'Kecimen' 'Besni' 'Kecimen' 'Kecimen' 'Kecimen' 'Kecimen'\n",
      " 'Besni' 'Kecimen' 'Kecimen' 'Besni' 'Kecimen' 'Kecimen' 'Besni' 'Kecimen'\n",
      " 'Kecimen' 'Besni' 'Kecimen' 'Kecimen' 'Besni' 'Besni' 'Besni' 'Besni'\n",
      " 'Besni' 'Besni' 'Kecimen' 'Besni' 'Kecimen' 'Kecimen' 'Besni' 'Kecimen'\n",
      " 'Kecimen' 'Kecimen' 'Kecimen' 'Besni' 'Besni' 'Kecimen' 'Besni' 'Besni'\n",
      " 'Besni' 'Besni' 'Kecimen' 'Kecimen' 'Besni' 'Kecimen' 'Besni' 'Besni'\n",
      " 'Kecimen' 'Besni' 'Kecimen' 'Besni' 'Besni' 'Kecimen' 'Besni' 'Kecimen'\n",
      " 'Kecimen' 'Besni' 'Besni' 'Besni' 'Besni' 'Kecimen' 'Besni' 'Besni'\n",
      " 'Kecimen' 'Kecimen' 'Besni' 'Kecimen' 'Besni' 'Besni' 'Kecimen' 'Besni'\n",
      " 'Kecimen' 'Kecimen' 'Besni' 'Besni' 'Besni' 'Besni' 'Kecimen' 'Kecimen'\n",
      " 'Besni' 'Kecimen' 'Kecimen' 'Kecimen' 'Kecimen' 'Kecimen' 'Kecimen'\n",
      " 'Besni' 'Kecimen' 'Besni' 'Kecimen' 'Kecimen' 'Kecimen' 'Besni' 'Besni'\n",
      " 'Kecimen' 'Kecimen' 'Besni' 'Kecimen' 'Kecimen' 'Kecimen' 'Besni'\n",
      " 'Kecimen' 'Besni' 'Kecimen' 'Besni' 'Kecimen' 'Kecimen' 'Kecimen'\n",
      " 'Kecimen' 'Kecimen' 'Besni' 'Kecimen' 'Kecimen' 'Kecimen' 'Kecimen'\n",
      " 'Kecimen' 'Besni' 'Besni' 'Besni' 'Kecimen' 'Kecimen' 'Besni' 'Kecimen'\n",
      " 'Kecimen' 'Kecimen' 'Kecimen' 'Kecimen' 'Besni' 'Kecimen' 'Kecimen'\n",
      " 'Besni' 'Kecimen' 'Kecimen']\n",
      "[[72 25]\n",
      " [ 6 77]]\n",
      "0.8277777777777777\n",
      "              precision    recall  f1-score   support\n",
      "\n",
      "       Besni       0.92      0.74      0.82        97\n",
      "     Kecimen       0.75      0.93      0.83        83\n",
      "\n",
      "    accuracy                           0.83       180\n",
      "   macro avg       0.84      0.83      0.83       180\n",
      "weighted avg       0.85      0.83      0.83       180\n",
      "\n"
     ]
    },
    {
     "data": {
      "image/png": "[encoded data removed]",
      "text/plain": [
       "<Figure size 432x288 with 1 Axes>"
      ]
     },
     "metadata": {
      "needs_background": "light"
     },
     "output_type": "display_data"
    }
   ],
   "source": [
    "features_2=list(zip(f1, f2,f3,f4,f5))\n",
    "X_train, X_test, y_train, y_test = train_test_split(features_2, label, test_size=0.2, random_state=0)\n",
    "model = model = GaussianNB()\n",
    "model.fit(X_train, y_train)\n",
    "y_pred= model.predict(X_test)\n",
    "\n",
    "print(\"PREDICTED VALUES USING NAIVE BAYES ARE:\")\n",
    "# for i in y_pred:\n",
    "#     print(i)\n",
    "print(y_pred)\n",
    "\n",
    "cm = confusion_matrix(y_test, y_pred)\n",
    "ac  = accuracy_score(y_test, y_pred)\n",
    "cm_report = metrics.classification_report(y_test,y_pred)\n",
    "print(cm)\n",
    "print(ac)\n",
    "print(cm_report)\n",
    "cmd = ConfusionMatrixDisplay(cm, display_labels=['1','0'])\n",
    "cmd.plot(colorbar=False, cmap='Blues')\n",
    "plt.show()"
   ]
  },
  {
   "cell_type": "code",
   "execution_count": 21,
   "id": "45d4c19d",
   "metadata": {},
   "outputs": [
    {
     "name": "stdout",
     "output_type": "stream",
     "text": [
      "PREDICTED VALUES USING NAIVE BAYES ARE:\n",
      "['Besni' 'Kecimen' 'Besni' 'Kecimen' 'Besni' 'Besni' 'Besni' 'Kecimen'\n",
      " 'Kecimen' 'Besni' 'Besni' 'Kecimen' 'Kecimen' 'Kecimen' 'Besni' 'Kecimen'\n",
      " 'Kecimen' 'Besni' 'Kecimen' 'Kecimen' 'Kecimen' 'Besni' 'Besni' 'Besni'\n",
      " 'Kecimen' 'Kecimen' 'Kecimen' 'Besni' 'Besni' 'Besni' 'Kecimen' 'Besni'\n",
      " 'Kecimen' 'Besni' 'Besni' 'Besni' 'Kecimen' 'Kecimen' 'Besni' 'Besni'\n",
      " 'Kecimen' 'Kecimen' 'Kecimen' 'Kecimen' 'Kecimen' 'Besni' 'Kecimen'\n",
      " 'Kecimen' 'Kecimen' 'Besni' 'Kecimen' 'Kecimen' 'Kecimen' 'Kecimen'\n",
      " 'Besni' 'Kecimen' 'Kecimen' 'Besni' 'Kecimen' 'Kecimen' 'Besni' 'Kecimen'\n",
      " 'Kecimen' 'Besni' 'Kecimen' 'Kecimen' 'Besni' 'Besni' 'Besni' 'Besni'\n",
      " 'Besni' 'Besni' 'Kecimen' 'Besni' 'Kecimen' 'Kecimen' 'Besni' 'Kecimen'\n",
      " 'Kecimen' 'Kecimen' 'Kecimen' 'Besni' 'Besni' 'Kecimen' 'Besni' 'Besni'\n",
      " 'Besni' 'Besni' 'Kecimen' 'Kecimen' 'Besni' 'Kecimen' 'Besni' 'Besni'\n",
      " 'Kecimen' 'Besni' 'Kecimen' 'Besni' 'Besni' 'Kecimen' 'Besni' 'Kecimen'\n",
      " 'Kecimen' 'Besni' 'Besni' 'Besni' 'Besni' 'Kecimen' 'Besni' 'Besni'\n",
      " 'Kecimen' 'Kecimen' 'Besni' 'Kecimen' 'Besni' 'Besni' 'Kecimen' 'Besni'\n",
      " 'Kecimen' 'Kecimen' 'Besni' 'Besni' 'Besni' 'Besni' 'Kecimen' 'Kecimen'\n",
      " 'Besni' 'Kecimen' 'Kecimen' 'Kecimen' 'Kecimen' 'Kecimen' 'Kecimen'\n",
      " 'Besni' 'Kecimen' 'Besni' 'Kecimen' 'Kecimen' 'Besni' 'Besni' 'Besni'\n",
      " 'Kecimen' 'Kecimen' 'Besni' 'Kecimen' 'Kecimen' 'Kecimen' 'Besni'\n",
      " 'Kecimen' 'Besni' 'Kecimen' 'Besni' 'Kecimen' 'Kecimen' 'Kecimen'\n",
      " 'Kecimen' 'Kecimen' 'Besni' 'Kecimen' 'Kecimen' 'Kecimen' 'Kecimen'\n",
      " 'Kecimen' 'Besni' 'Besni' 'Besni' 'Kecimen' 'Kecimen' 'Besni' 'Kecimen'\n",
      " 'Kecimen' 'Kecimen' 'Kecimen' 'Kecimen' 'Besni' 'Kecimen' 'Kecimen'\n",
      " 'Besni' 'Kecimen' 'Kecimen']\n",
      "[[73 24]\n",
      " [ 6 77]]\n",
      "0.8333333333333334\n",
      "              precision    recall  f1-score   support\n",
      "\n",
      "       Besni       0.92      0.75      0.83        97\n",
      "     Kecimen       0.76      0.93      0.84        83\n",
      "\n",
      "    accuracy                           0.83       180\n",
      "   macro avg       0.84      0.84      0.83       180\n",
      "weighted avg       0.85      0.83      0.83       180\n",
      "\n"
     ]
    },
    {
     "data": {
      "image/png": "[encoded data removed]",
      "text/plain": [
       "<Figure size 432x288 with 1 Axes>"
      ]
     },
     "metadata": {
      "needs_background": "light"
     },
     "output_type": "display_data"
    }
   ],
   "source": [
    "features_2=list(zip(f1, f2,f3,f4,f5,f6))\n",
    "X_train, X_test, y_train, y_test = train_test_split(features_2, label, test_size=0.2, random_state=0)\n",
    "model = model = GaussianNB()\n",
    "model.fit(X_train, y_train)\n",
    "y_pred= model.predict(X_test)\n",
    "\n",
    "print(\"PREDICTED VALUES USING NAIVE BAYES ARE:\")\n",
    "# for i in y_pred:\n",
    "#     print(i)\n",
    "print(y_pred)\n",
    "\n",
    "cm = confusion_matrix(y_test, y_pred)\n",
    "ac  = accuracy_score(y_test, y_pred)\n",
    "cm_report = metrics.classification_report(y_test,y_pred)\n",
    "print(cm)\n",
    "print(ac)\n",
    "print(cm_report)\n",
    "cmd = ConfusionMatrixDisplay(cm, display_labels=['1','0'])\n",
    "cmd.plot(colorbar=False, cmap='Blues')\n",
    "plt.show()"
   ]
  },
  {
   "cell_type": "markdown",
   "id": "f3b5b134",
   "metadata": {},
   "source": [
    "### NAIVE BAYES  ON THE BASIS OF 2 OR MORE FEATURES (DATASET2)"
   ]
  },
  {
   "cell_type": "code",
   "execution_count": 22,
   "id": "4a15b60f",
   "metadata": {},
   "outputs": [],
   "source": [
    "f1 = np.array(dataframe2['Mean'])\n",
    "f2 = np.array(dataframe2['Standard_Deviation'])\n",
    "f3 = np.array(dataframe2['Excess_Kurtosis'])\n",
    "f8 = np.array(dataframe2['Skewness'])\n",
    "f4 = np.array(dataframe2['Mean_DM-SNR'])\n",
    "f5 = np.array(dataframe2['Standard_Deviation_DM-SNR'])\n",
    "f6 = np.array(dataframe2['Excess_Kurtosis_DM-SNR'])\n",
    "f7 = np.array(dataframe2['Skewness_DM-SNR'])\n",
    "label = np.array(dataframe2['Class'])"
   ]
  },
  {
   "cell_type": "code",
   "execution_count": 23,
   "id": "3337572c",
   "metadata": {},
   "outputs": [
    {
     "name": "stdout",
     "output_type": "stream",
     "text": [
      "PREDICTED VALUES USING NAIVE BAYES ARE:\n",
      "[0 0 0 ... 0 0 0]\n",
      "[[3244   33]\n",
      " [  82  221]]\n",
      "0.9678770949720671\n",
      "              precision    recall  f1-score   support\n",
      "\n",
      "           0       0.98      0.99      0.98      3277\n",
      "           1       0.87      0.73      0.79       303\n",
      "\n",
      "    accuracy                           0.97      3580\n",
      "   macro avg       0.92      0.86      0.89      3580\n",
      "weighted avg       0.97      0.97      0.97      3580\n",
      "\n"
     ]
    },
    {
     "data": {
      "image/png": "[encoded data removed]",
      "text/plain": [
       "<Figure size 432x288 with 1 Axes>"
      ]
     },
     "metadata": {
      "needs_background": "light"
     },
     "output_type": "display_data"
    }
   ],
   "source": [
    "features=list(zip(f1,f2))\n",
    "X_train, X_test, y_train, y_test = train_test_split(features, label, test_size=0.2, random_state=0)\n",
    "model = KNeighborsClassifier(n_neighbors=3)\n",
    "model.fit(X_train, y_train)\n",
    "y_pred= model.predict(X_test)\n",
    "print(\"PREDICTED VALUES USING NAIVE BAYES ARE:\")\n",
    "# for i in y_pred:\n",
    "#     print(i)\n",
    "\n",
    "print(y_pred)\n",
    "cm = confusion_matrix(y_test, y_pred)\n",
    "ac  = accuracy_score(y_test, y_pred)\n",
    "cm_report = metrics.classification_report(y_test,y_pred)\n",
    "print(cm)\n",
    "print(ac)\n",
    "print(cm_report)\n",
    "cmd = ConfusionMatrixDisplay(cm, display_labels=['1','0'])\n",
    "cmd.plot(colorbar=False, cmap='Blues')\n",
    "plt.show()"
   ]
  },
  {
   "cell_type": "code",
   "execution_count": 24,
   "id": "907f2674",
   "metadata": {},
   "outputs": [
    {
     "name": "stdout",
     "output_type": "stream",
     "text": [
      "PREDICTED VALUES USING NAIVE BAYES ARE:\n",
      "[0 0 0 ... 0 0 0]\n",
      "[[3255   22]\n",
      " [  66  237]]\n",
      "0.9754189944134078\n",
      "              precision    recall  f1-score   support\n",
      "\n",
      "           0       0.98      0.99      0.99      3277\n",
      "           1       0.92      0.78      0.84       303\n",
      "\n",
      "    accuracy                           0.98      3580\n",
      "   macro avg       0.95      0.89      0.92      3580\n",
      "weighted avg       0.97      0.98      0.97      3580\n",
      "\n"
     ]
    },
    {
     "data": {
      "image/png": "[encoded data removed]",
      "text/plain": [
       "<Figure size 432x288 with 1 Axes>"
      ]
     },
     "metadata": {
      "needs_background": "light"
     },
     "output_type": "display_data"
    }
   ],
   "source": [
    "features=list(zip(f1,f2,f3))\n",
    "X_train, X_test, y_train, y_test = train_test_split(features, label, test_size=0.2, random_state=0)\n",
    "model = KNeighborsClassifier(n_neighbors=3)\n",
    "model.fit(X_train, y_train)\n",
    "y_pred= model.predict(X_test)\n",
    "print(\"PREDICTED VALUES USING NAIVE BAYES ARE:\")\n",
    "# for i in y_pred:\n",
    "#     print(i)\n",
    "\n",
    "print(y_pred)\n",
    "cm = confusion_matrix(y_test, y_pred)\n",
    "ac  = accuracy_score(y_test, y_pred)\n",
    "cm_report = metrics.classification_report(y_test,y_pred)\n",
    "print(cm)\n",
    "print(ac)\n",
    "print(cm_report)\n",
    "cmd = ConfusionMatrixDisplay(cm, display_labels=['1','0'])\n",
    "cmd.plot(colorbar=False, cmap='Blues')\n",
    "plt.show()"
   ]
  },
  {
   "cell_type": "code",
   "execution_count": 25,
   "id": "28b8369b",
   "metadata": {},
   "outputs": [
    {
     "name": "stdout",
     "output_type": "stream",
     "text": [
      "PREDICTED VALUES USING NAIVE BAYES ARE:\n",
      "[0 0 0 ... 0 0 0]\n",
      "[[3242   35]\n",
      " [  63  240]]\n",
      "0.9726256983240223\n",
      "              precision    recall  f1-score   support\n",
      "\n",
      "           0       0.98      0.99      0.99      3277\n",
      "           1       0.87      0.79      0.83       303\n",
      "\n",
      "    accuracy                           0.97      3580\n",
      "   macro avg       0.93      0.89      0.91      3580\n",
      "weighted avg       0.97      0.97      0.97      3580\n",
      "\n"
     ]
    },
    {
     "data": {
      "image/png": "[encoded data removed]",
      "text/plain": [
       "<Figure size 432x288 with 1 Axes>"
      ]
     },
     "metadata": {
      "needs_background": "light"
     },
     "output_type": "display_data"
    }
   ],
   "source": [
    "features=list(zip(f1,f2,f3,f4))\n",
    "X_train, X_test, y_train, y_test = train_test_split(features, label, test_size=0.2, random_state=0)\n",
    "model = KNeighborsClassifier(n_neighbors=3)\n",
    "model.fit(X_train, y_train)\n",
    "y_pred= model.predict(X_test)\n",
    "print(\"PREDICTED VALUES USING NAIVE BAYES ARE:\")\n",
    "# for i in y_pred:\n",
    "#     print(i)\n",
    "\n",
    "print(y_pred)\n",
    "cm = confusion_matrix(y_test, y_pred)\n",
    "ac  = accuracy_score(y_test, y_pred)\n",
    "cm_report = metrics.classification_report(y_test,y_pred)\n",
    "print(cm)\n",
    "print(ac)\n",
    "print(cm_report)\n",
    "cmd = ConfusionMatrixDisplay(cm, display_labels=['1','0'])\n",
    "cmd.plot(colorbar=False, cmap='Blues')\n",
    "plt.show()"
   ]
  },
  {
   "cell_type": "code",
   "execution_count": 26,
   "id": "9edc4af5",
   "metadata": {},
   "outputs": [
    {
     "name": "stdout",
     "output_type": "stream",
     "text": [
      "PREDICTED VALUES USING NAIVE BAYES ARE:\n",
      "[0 0 0 ... 0 0 0]\n",
      "[[3236   41]\n",
      " [  63  240]]\n",
      "0.9709497206703911\n",
      "              precision    recall  f1-score   support\n",
      "\n",
      "           0       0.98      0.99      0.98      3277\n",
      "           1       0.85      0.79      0.82       303\n",
      "\n",
      "    accuracy                           0.97      3580\n",
      "   macro avg       0.92      0.89      0.90      3580\n",
      "weighted avg       0.97      0.97      0.97      3580\n",
      "\n"
     ]
    },
    {
     "data": {
      "image/png": "[encoded data removed]",
      "text/plain": [
       "<Figure size 432x288 with 1 Axes>"
      ]
     },
     "metadata": {
      "needs_background": "light"
     },
     "output_type": "display_data"
    }
   ],
   "source": [
    "features=list(zip(f1,f2,f3,f4,f5))\n",
    "X_train, X_test, y_train, y_test = train_test_split(features, label, test_size=0.2, random_state=0)\n",
    "model = KNeighborsClassifier(n_neighbors=3)\n",
    "model.fit(X_train, y_train)\n",
    "y_pred= model.predict(X_test)\n",
    "print(\"PREDICTED VALUES USING NAIVE BAYES ARE:\")\n",
    "# for i in y_pred:\n",
    "#     print(i)\n",
    "\n",
    "print(y_pred)\n",
    "cm = confusion_matrix(y_test, y_pred)\n",
    "ac  = accuracy_score(y_test, y_pred)\n",
    "cm_report = metrics.classification_report(y_test,y_pred)\n",
    "print(cm)\n",
    "print(ac)\n",
    "print(cm_report)\n",
    "cmd = ConfusionMatrixDisplay(cm, display_labels=['1','0'])\n",
    "cmd.plot(colorbar=False, cmap='Blues')\n",
    "plt.show()"
   ]
  },
  {
   "cell_type": "code",
   "execution_count": 27,
   "id": "8f7179cb",
   "metadata": {},
   "outputs": [
    {
     "name": "stdout",
     "output_type": "stream",
     "text": [
      "PREDICTED VALUES USING NAIVE BAYES ARE:\n",
      "[0 0 0 ... 0 0 0]\n",
      "[[3236   41]\n",
      " [  63  240]]\n",
      "0.9709497206703911\n",
      "              precision    recall  f1-score   support\n",
      "\n",
      "           0       0.98      0.99      0.98      3277\n",
      "           1       0.85      0.79      0.82       303\n",
      "\n",
      "    accuracy                           0.97      3580\n",
      "   macro avg       0.92      0.89      0.90      3580\n",
      "weighted avg       0.97      0.97      0.97      3580\n",
      "\n"
     ]
    },
    {
     "data": {
      "image/png": "[encoded data removed]",
      "text/plain": [
       "<Figure size 432x288 with 1 Axes>"
      ]
     },
     "metadata": {
      "needs_background": "light"
     },
     "output_type": "display_data"
    }
   ],
   "source": [
    "features=list(zip(f1,f2,f3,f4,f5,f6))\n",
    "X_train, X_test, y_train, y_test = train_test_split(features, label, test_size=0.2, random_state=0)\n",
    "model = KNeighborsClassifier(n_neighbors=3)\n",
    "model.fit(X_train, y_train)\n",
    "y_pred= model.predict(X_test)\n",
    "print(\"PREDICTED VALUES USING NAIVE BAYES ARE:\")\n",
    "# for i in y_pred:\n",
    "#     print(i)\n",
    "\n",
    "print(y_pred)\n",
    "cm = confusion_matrix(y_test, y_pred)\n",
    "ac  = accuracy_score(y_test, y_pred)\n",
    "cm_report = metrics.classification_report(y_test,y_pred)\n",
    "print(cm)\n",
    "print(ac)\n",
    "print(cm_report)\n",
    "cmd = ConfusionMatrixDisplay(cm, display_labels=['1','0'])\n",
    "cmd.plot(colorbar=False, cmap='Blues')\n",
    "plt.show()"
   ]
  },
  {
   "cell_type": "code",
   "execution_count": 28,
   "id": "cacd54ed",
   "metadata": {},
   "outputs": [
    {
     "name": "stdout",
     "output_type": "stream",
     "text": [
      "PREDICTED VALUES USING NAIVE BAYES ARE:\n",
      "[0 0 0 ... 0 0 0]\n",
      "[[3242   35]\n",
      " [  68  235]]\n",
      "0.9712290502793296\n",
      "              precision    recall  f1-score   support\n",
      "\n",
      "           0       0.98      0.99      0.98      3277\n",
      "           1       0.87      0.78      0.82       303\n",
      "\n",
      "    accuracy                           0.97      3580\n",
      "   macro avg       0.92      0.88      0.90      3580\n",
      "weighted avg       0.97      0.97      0.97      3580\n",
      "\n"
     ]
    },
    {
     "data": {
      "image/png": "[encoded data removed]",
      "text/plain": [
       "<Figure size 432x288 with 1 Axes>"
      ]
     },
     "metadata": {
      "needs_background": "light"
     },
     "output_type": "display_data"
    }
   ],
   "source": [
    "features=list(zip(f1,f2,f3,f4,f5,f6,f7))\n",
    "X_train, X_test, y_train, y_test = train_test_split(features, label, test_size=0.2, random_state=0)\n",
    "model = KNeighborsClassifier(n_neighbors=3)\n",
    "model.fit(X_train, y_train)\n",
    "y_pred= model.predict(X_test)\n",
    "print(\"PREDICTED VALUES USING NAIVE BAYES ARE:\")\n",
    "# for i in y_pred:\n",
    "#     print(i)\n",
    "\n",
    "print(y_pred)\n",
    "cm = confusion_matrix(y_test, y_pred)\n",
    "ac  = accuracy_score(y_test, y_pred)\n",
    "cm_report = metrics.classification_report(y_test,y_pred)\n",
    "print(cm)\n",
    "print(ac)\n",
    "print(cm_report)\n",
    "cmd = ConfusionMatrixDisplay(cm, display_labels=['1','0'])\n",
    "cmd.plot(colorbar=False, cmap='Blues')\n",
    "plt.show()"
   ]
  },
  {
   "cell_type": "code",
   "execution_count": 29,
   "id": "fb350e73",
   "metadata": {},
   "outputs": [
    {
     "name": "stdout",
     "output_type": "stream",
     "text": [
      "PREDICTED VALUES USING NAIVE BAYES ARE:\n",
      "[0 0 0 ... 0 0 0]\n",
      "[[3242   35]\n",
      " [  60  243]]\n",
      "0.973463687150838\n",
      "              precision    recall  f1-score   support\n",
      "\n",
      "           0       0.98      0.99      0.99      3277\n",
      "           1       0.87      0.80      0.84       303\n",
      "\n",
      "    accuracy                           0.97      3580\n",
      "   macro avg       0.93      0.90      0.91      3580\n",
      "weighted avg       0.97      0.97      0.97      3580\n",
      "\n"
     ]
    },
    {
     "data": {
      "image/png": "[encoded data removed]",
      "text/plain": [
       "<Figure size 432x288 with 1 Axes>"
      ]
     },
     "metadata": {
      "needs_background": "light"
     },
     "output_type": "display_data"
    }
   ],
   "source": [
    "features=list(zip(f1,f2,f3,f4,f5,f6,f7,f8))\n",
    "X_train, X_test, y_train, y_test = train_test_split(features, label, test_size=0.2, random_state=0)\n",
    "model = KNeighborsClassifier(n_neighbors=3)\n",
    "model.fit(X_train, y_train)\n",
    "y_pred= model.predict(X_test)\n",
    "print(\"PREDICTED VALUES USING NAIVE BAYES ARE:\")\n",
    "# for i in y_pred:\n",
    "#     print(i)\n",
    "\n",
    "print(y_pred)\n",
    "cm = confusion_matrix(y_test, y_pred)\n",
    "ac  = accuracy_score(y_test, y_pred)\n",
    "cm_report = metrics.classification_report(y_test,y_pred)\n",
    "print(cm)\n",
    "print(ac)\n",
    "print(cm_report)\n",
    "cmd = ConfusionMatrixDisplay(cm, display_labels=['1','0'])\n",
    "cmd.plot(colorbar=False, cmap='Blues')\n",
    "plt.show()"
   ]
  },
  {
   "cell_type": "code",
   "execution_count": 30,
   "id": "45e85dbe",
   "metadata": {},
   "outputs": [
    {
     "data": {
      "text/html": [
       "<div>\n",
       "<style scoped>\n",
       "    .dataframe tbody tr th:only-of-type {\n",
       "        vertical-align: middle;\n",
       "    }\n",
       "\n",
       "    .dataframe tbody tr th {\n",
       "        vertical-align: top;\n",
       "    }\n",
       "\n",
       "    .dataframe thead th {\n",
       "        text-align: right;\n",
       "    }\n",
       "</style>\n",
       "<table border=\"1\" class=\"dataframe\">\n",
       "  <thead>\n",
       "    <tr style=\"text-align: right;\">\n",
       "      <th></th>\n",
       "      <th>SystemCodeNumber</th>\n",
       "      <th>Capacity</th>\n",
       "      <th>Occupancy</th>\n",
       "      <th>LastUpdated</th>\n",
       "    </tr>\n",
       "  </thead>\n",
       "  <tbody>\n",
       "    <tr>\n",
       "      <th>0</th>\n",
       "      <td>BHMBCCMKT01</td>\n",
       "      <td>577</td>\n",
       "      <td>61</td>\n",
       "      <td>2016-10-04 07:59:42</td>\n",
       "    </tr>\n",
       "    <tr>\n",
       "      <th>1</th>\n",
       "      <td>BHMBCCMKT01</td>\n",
       "      <td>577</td>\n",
       "      <td>64</td>\n",
       "      <td>2016-10-04 08:25:42</td>\n",
       "    </tr>\n",
       "    <tr>\n",
       "      <th>2</th>\n",
       "      <td>BHMBCCMKT01</td>\n",
       "      <td>577</td>\n",
       "      <td>80</td>\n",
       "      <td>2016-10-04 08:59:42</td>\n",
       "    </tr>\n",
       "    <tr>\n",
       "      <th>3</th>\n",
       "      <td>BHMBCCMKT01</td>\n",
       "      <td>577</td>\n",
       "      <td>107</td>\n",
       "      <td>2016-10-04 09:32:46</td>\n",
       "    </tr>\n",
       "    <tr>\n",
       "      <th>4</th>\n",
       "      <td>BHMBCCMKT01</td>\n",
       "      <td>577</td>\n",
       "      <td>150</td>\n",
       "      <td>2016-10-04 09:59:48</td>\n",
       "    </tr>\n",
       "    <tr>\n",
       "      <th>...</th>\n",
       "      <td>...</td>\n",
       "      <td>...</td>\n",
       "      <td>...</td>\n",
       "      <td>...</td>\n",
       "    </tr>\n",
       "    <tr>\n",
       "      <th>35712</th>\n",
       "      <td>Shopping</td>\n",
       "      <td>1920</td>\n",
       "      <td>1517</td>\n",
       "      <td>2016-12-19 14:30:33</td>\n",
       "    </tr>\n",
       "    <tr>\n",
       "      <th>35713</th>\n",
       "      <td>Shopping</td>\n",
       "      <td>1920</td>\n",
       "      <td>1487</td>\n",
       "      <td>2016-12-19 15:03:34</td>\n",
       "    </tr>\n",
       "    <tr>\n",
       "      <th>35714</th>\n",
       "      <td>Shopping</td>\n",
       "      <td>1920</td>\n",
       "      <td>1432</td>\n",
       "      <td>2016-12-19 15:29:33</td>\n",
       "    </tr>\n",
       "    <tr>\n",
       "      <th>35715</th>\n",
       "      <td>Shopping</td>\n",
       "      <td>1920</td>\n",
       "      <td>1321</td>\n",
       "      <td>2016-12-19 16:03:35</td>\n",
       "    </tr>\n",
       "    <tr>\n",
       "      <th>35716</th>\n",
       "      <td>Shopping</td>\n",
       "      <td>1920</td>\n",
       "      <td>1180</td>\n",
       "      <td>2016-12-19 16:30:35</td>\n",
       "    </tr>\n",
       "  </tbody>\n",
       "</table>\n",
       "<p>35717 rows × 4 columns</p>\n",
       "</div>"
      ],
      "text/plain": [
       "      SystemCodeNumber  Capacity  Occupancy          LastUpdated\n",
       "0          BHMBCCMKT01       577         61  2016-10-04 07:59:42\n",
       "1          BHMBCCMKT01       577         64  2016-10-04 08:25:42\n",
       "2          BHMBCCMKT01       577         80  2016-10-04 08:59:42\n",
       "3          BHMBCCMKT01       577        107  2016-10-04 09:32:46\n",
       "4          BHMBCCMKT01       577        150  2016-10-04 09:59:48\n",
       "...                ...       ...        ...                  ...\n",
       "35712         Shopping      1920       1517  2016-12-19 14:30:33\n",
       "35713         Shopping      1920       1487  2016-12-19 15:03:34\n",
       "35714         Shopping      1920       1432  2016-12-19 15:29:33\n",
       "35715         Shopping      1920       1321  2016-12-19 16:03:35\n",
       "35716         Shopping      1920       1180  2016-12-19 16:30:35\n",
       "\n",
       "[35717 rows x 4 columns]"
      ]
     },
     "execution_count": 30,
     "metadata": {},
     "output_type": "execute_result"
    }
   ],
   "source": [
    "dataframe3"
   ]
  },
  {
   "cell_type": "code",
   "execution_count": 31,
   "id": "91985d40",
   "metadata": {},
   "outputs": [],
   "source": [
    "f1 = np.array(dataframe3['Capacity'])\n",
    "f2 = np.array(dataframe3['Occupancy'])"
   ]
  },
  {
   "cell_type": "code",
   "execution_count": 32,
   "id": "edbcdc87",
   "metadata": {},
   "outputs": [],
   "source": [
    "features=list(zip(f1, f2))"
   ]
  },
  {
   "cell_type": "code",
   "execution_count": 33,
   "id": "d5577ebd",
   "metadata": {},
   "outputs": [
    {
     "data": {
      "text/plain": [
       "KMeans(n_clusters=3, random_state=0)"
      ]
     },
     "execution_count": 33,
     "metadata": {},
     "output_type": "execute_result"
    }
   ],
   "source": [
    "kmeans = KMeans(n_clusters=3, init='k-means++', random_state= 0)\n",
    "kmeans.fit(features)"
   ]
  },
  {
   "cell_type": "code",
   "execution_count": 34,
   "id": "2b967cce",
   "metadata": {},
   "outputs": [
    {
     "data": {
      "image/png": "[encoded data removed]",
      "text/plain": [
       "<Figure size 491.25x360 with 1 Axes>"
      ]
     },
     "metadata": {
      "needs_background": "light"
     },
     "output_type": "display_data"
    }
   ],
   "source": [
    "kmeans.labels_=dataframe3[\"SystemCodeNumber\"]\n",
    "sns.relplot(x=f1, y=f2, s=100, data = dataframe3, hue=kmeans.labels_, palette='crest')\n",
    "plt.show()"
   ]
  },
  {
   "cell_type": "code",
   "execution_count": null,
   "id": "96d55d3d",
   "metadata": {},
   "outputs": [],
   "source": []
  }
 ],
 "metadata": {
  "kernelspec": {
   "display_name": "Python 3",
   "language": "python",
   "name": "python3"
  },
  "language_info": {
   "codemirror_mode": {
    "name": "ipython",
    "version": 3
   },
   "file_extension": ".py",
   "mimetype": "text/x-python",
   "name": "python",
   "nbconvert_exporter": "python",
   "pygments_lexer": "ipython3",
   "version": "3.8.8"
  }
 },
 "nbformat": 4,
 "nbformat_minor": 5
}
